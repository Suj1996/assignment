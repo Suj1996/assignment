{
 "cells": [
  {
   "cell_type": "code",
   "execution_count": 2,
   "metadata": {
    "colab": {
     "base_uri": "https://localhost:8080/"
    },
    "executionInfo": {
     "elapsed": 8,
     "status": "ok",
     "timestamp": 1722186591507,
     "user": {
      "displayName": "Razi Ahmed",
      "userId": "02478934906081398849"
     },
     "user_tz": -330
    },
    "id": "wpgxSifxT6m4",
    "outputId": "57d51544-8e03-4d92-d4c2-df0b782cd091"
   },
   "outputs": [
    {
     "name": "stdout",
     "output_type": "stream",
     "text": [
      "int32\n"
     ]
    }
   ],
   "source": [
    "#1. Create a NumPy array 'arr' of integers from 0 to 5 and print its data type.\n",
    "\n",
    "import numpy as np\n",
    "\n",
    "arr = np.array([0, 1, 2, 3, 4, 5])\n",
    "print(arr.dtype)\n"
   ]
  },
  {
   "cell_type": "code",
   "execution_count": 3,
   "metadata": {
    "colab": {
     "base_uri": "https://localhost:8080/"
    },
    "executionInfo": {
     "elapsed": 509,
     "status": "ok",
     "timestamp": 1722186641132,
     "user": {
      "displayName": "Razi Ahmed",
      "userId": "02478934906081398849"
     },
     "user_tz": -330
    },
    "id": "n61Z_XLgUZbj",
    "outputId": "fd043b89-4d5b-4197-b9df-bee83dda1120"
   },
   "outputs": [
    {
     "name": "stdout",
     "output_type": "stream",
     "text": [
      "float64\n"
     ]
    }
   ],
   "source": [
    "#2. Given a NumPy array 'arr', check if its data type is float64.arr = np.array([1.5, 2.6, 3.7])\n",
    "arr = np.array([1.5,2.6,3.7])\n",
    "print(arr.dtype)"
   ]
  },
  {
   "cell_type": "code",
   "execution_count": 4,
   "metadata": {
    "colab": {
     "base_uri": "https://localhost:8080/"
    },
    "executionInfo": {
     "elapsed": 603,
     "status": "ok",
     "timestamp": 1722186649858,
     "user": {
      "displayName": "Razi Ahmed",
      "userId": "02478934906081398849"
     },
     "user_tz": -330
    },
    "id": "zAHplpdKUqY1",
    "outputId": "5ce5acae-bc67-4f47-cf27-0cdeeea7e160"
   },
   "outputs": [
    {
     "name": "stdout",
     "output_type": "stream",
     "text": [
      "The data type of arr is float64.\n"
     ]
    }
   ],
   "source": [
    "#2. Given a NumPy array 'arr', check if its data type is float64.arr = np.array([1.5, 2.6, 3.7])\n",
    "\n",
    "arr = np.array([1.5, 2.6, 3.7])\n",
    "\n",
    "if arr.dtype == np.float64:\n",
    "    print(\"The data type of arr is float64.\")\n",
    "else:\n",
    "    print(\"The data type of arr is not float64.\")\n"
   ]
  },
  {
   "cell_type": "code",
   "execution_count": 4,
   "metadata": {
    "colab": {
     "base_uri": "https://localhost:8080/"
    },
    "executionInfo": {
     "elapsed": 518,
     "status": "ok",
     "timestamp": 1722186661128,
     "user": {
      "displayName": "Razi Ahmed",
      "userId": "02478934906081398849"
     },
     "user_tz": -330
    },
    "id": "oCoNvXmqUsds",
    "outputId": "0b9b104b-cd55-45c5-b647-fba0685636e6"
   },
   "outputs": [
    {
     "name": "stdout",
     "output_type": "stream",
     "text": [
      "[1.+2.j 3.+4.j 5.+6.j]\n"
     ]
    }
   ],
   "source": [
    "#3. Create a NumPy array 'arr' with a data type of complex128 containing three complex numbers.\n",
    "\n",
    "arr = np.array([1 + 2j, 3 + 4j, 5 + 6j], dtype=np.complex128)\n",
    "print(arr)\n"
   ]
  },
  {
   "cell_type": "code",
   "execution_count": 5,
   "metadata": {
    "colab": {
     "base_uri": "https://localhost:8080/"
    },
    "executionInfo": {
     "elapsed": 476,
     "status": "ok",
     "timestamp": 1722186692712,
     "user": {
      "displayName": "Razi Ahmed",
      "userId": "02478934906081398849"
     },
     "user_tz": -330
    },
    "id": "8TFzcPJSUvQ2",
    "outputId": "608f1764-f89f-4936-a39a-2f6098bfbdeb"
   },
   "outputs": [
    {
     "name": "stdout",
     "output_type": "stream",
     "text": [
      "[1. 2. 3. 4. 5.]\n"
     ]
    }
   ],
   "source": [
    "#4. Convert an existing NumPy array 'arr' of integers to float32 data type.\n",
    "\n",
    "# Assuming arr is your existing NumPy array of integers\n",
    "arr = np.array([1, 2, 3, 4, 5])\n",
    "\n",
    "# Convert arr to float32 data type\n",
    "arr = arr.astype(np.float32)\n",
    "\n",
    "print(arr)\n"
   ]
  },
  {
   "cell_type": "code",
   "execution_count": 6,
   "metadata": {
    "colab": {
     "base_uri": "https://localhost:8080/"
    },
    "executionInfo": {
     "elapsed": 5,
     "status": "ok",
     "timestamp": 1722186704603,
     "user": {
      "displayName": "Razi Ahmed",
      "userId": "02478934906081398849"
     },
     "user_tz": -330
    },
    "id": "xGK7KX79U3N8",
    "outputId": "49ed382b-2733-4ced-d07d-b33b945e4dfa"
   },
   "outputs": [
    {
     "name": "stdout",
     "output_type": "stream",
     "text": [
      "[1.1234568 2.2345679 3.3456788]\n"
     ]
    }
   ],
   "source": [
    "#5. Given a NumPy array 'arr' with float64 data type, convert it to float32 to reduce decimal precision.\n",
    "\n",
    "# Assuming arr is your existing NumPy array of float64\n",
    "arr = np.array([1.123456789, 2.234567891, 3.345678912], dtype=np.float64)\n",
    "\n",
    "# Convert arr to float32 data type\n",
    "arr = arr.astype(np.float32)\n",
    "\n",
    "print(arr)\n"
   ]
  },
  {
   "cell_type": "code",
   "execution_count": 7,
   "metadata": {
    "colab": {
     "base_uri": "https://localhost:8080/"
    },
    "executionInfo": {
     "elapsed": 515,
     "status": "ok",
     "timestamp": 1722186721276,
     "user": {
      "displayName": "Razi Ahmed",
      "userId": "02478934906081398849"
     },
     "user_tz": -330
    },
    "id": "gaC9_zBqU6D7",
    "outputId": "9337d2d2-55aa-4868-e251-c27450ad2550"
   },
   "outputs": [
    {
     "name": "stdout",
     "output_type": "stream",
     "text": [
      "Shape: (2, 3)\n",
      "Size: 6\n",
      "Data type: int64\n"
     ]
    }
   ],
   "source": [
    "#6. Write a function array_attributes that takes a NumPy array as input and returns its shape, size, and data type\n",
    "\n",
    "def array_attributes(arr):\n",
    "    shape = arr.shape\n",
    "    size = arr.size\n",
    "    data_type = arr.dtype\n",
    "    return shape, size, data_type\n",
    "\n",
    "# Example usage:\n",
    "arr = np.array([[1, 2, 3], [4, 5, 6]])\n",
    "attributes = array_attributes(arr)\n",
    "print(\"Shape:\", attributes[0])\n",
    "print(\"Size:\", attributes[1])\n",
    "print(\"Data type:\", attributes[2])\n"
   ]
  },
  {
   "cell_type": "code",
   "execution_count": 8,
   "metadata": {
    "colab": {
     "base_uri": "https://localhost:8080/"
    },
    "executionInfo": {
     "elapsed": 517,
     "status": "ok",
     "timestamp": 1722186737797,
     "user": {
      "displayName": "Razi Ahmed",
      "userId": "02478934906081398849"
     },
     "user_tz": -330
    },
    "id": "9VKpQY03U-LS",
    "outputId": "75289eac-c0d5-405e-bd0f-ea4af720bd70"
   },
   "outputs": [
    {
     "name": "stdout",
     "output_type": "stream",
     "text": [
      "Dimension of arr1: 2\n",
      "Dimension of arr2: 1\n"
     ]
    }
   ],
   "source": [
    "#7. Create a function array_dimension that takes a NumPy array as input and returns its dimensionality.\n",
    "\n",
    "def array_dimension(arr):\n",
    "    return arr.ndim\n",
    "\n",
    "# Example usage:\n",
    "arr1 = np.array([[1, 2, 3], [4, 5, 6]])\n",
    "arr2 = np.array([1, 2, 3])\n",
    "\n",
    "print(\"Dimension of arr1:\", array_dimension(arr1))\n",
    "print(\"Dimension of arr2:\", array_dimension(arr2))\n"
   ]
  },
  {
   "cell_type": "code",
   "execution_count": 9,
   "metadata": {
    "colab": {
     "base_uri": "https://localhost:8080/"
    },
    "executionInfo": {
     "elapsed": 660,
     "status": "ok",
     "timestamp": 1722186746471,
     "user": {
      "displayName": "Razi Ahmed",
      "userId": "02478934906081398849"
     },
     "user_tz": -330
    },
    "id": "rXbdCPP2VCNu",
    "outputId": "3e415fbf-cc59-4b4a-db70-821f12a29f3d"
   },
   "outputs": [
    {
     "name": "stdout",
     "output_type": "stream",
     "text": [
      "Item size (in bytes): 8\n",
      "Total size (in bytes): 48\n"
     ]
    }
   ],
   "source": [
    "#8. Design a function item_size_info that takes a NumPy array as input and returns the item size and the total size in bytes\n",
    "\n",
    "def item_size_info(arr):\n",
    "    item_size = arr.itemsize\n",
    "    total_size = arr.size * arr.itemsize\n",
    "    return item_size, total_size\n",
    "\n",
    "# Example usage:\n",
    "arr = np.array([[1, 2, 3], [4, 5, 6]])\n",
    "item_size, total_size = item_size_info(arr)\n",
    "print(\"Item size (in bytes):\", item_size)\n",
    "print(\"Total size (in bytes):\", total_size)\n"
   ]
  },
  {
   "cell_type": "code",
   "execution_count": 10,
   "metadata": {
    "colab": {
     "base_uri": "https://localhost:8080/"
    },
    "executionInfo": {
     "elapsed": 613,
     "status": "ok",
     "timestamp": 1722186756835,
     "user": {
      "displayName": "Razi Ahmed",
      "userId": "02478934906081398849"
     },
     "user_tz": -330
    },
    "id": "sfXBOsZxVETa",
    "outputId": "04b6a3b1-1e4f-452c-8f49-6f176cc0b334"
   },
   "outputs": [
    {
     "name": "stdout",
     "output_type": "stream",
     "text": [
      "Strides: (24, 8)\n"
     ]
    }
   ],
   "source": [
    "#9. Create a function array_strides that takes a NumPy array as input and returns the strides of the array.\n",
    "\n",
    "def array_strides(arr):\n",
    "    return arr.strides\n",
    "\n",
    "# Example usage:\n",
    "arr = np.array([[1, 2, 3], [4, 5, 6]])\n",
    "strides = array_strides(arr)\n",
    "print(\"Strides:\", strides)\n"
   ]
  },
  {
   "cell_type": "code",
   "execution_count": 11,
   "metadata": {
    "colab": {
     "base_uri": "https://localhost:8080/"
    },
    "executionInfo": {
     "elapsed": 509,
     "status": "ok",
     "timestamp": 1722186767377,
     "user": {
      "displayName": "Razi Ahmed",
      "userId": "02478934906081398849"
     },
     "user_tz": -330
    },
    "id": "UaI9ABsoVG0l",
    "outputId": "f1076f65-aaf1-47c5-9dcc-45db26a4f8b5"
   },
   "outputs": [
    {
     "name": "stdout",
     "output_type": "stream",
     "text": [
      "Shape: (2, 3)\n",
      "Strides: (2, 3)\n"
     ]
    }
   ],
   "source": [
    "#10. Design a function shape_stride_relationship that takes a NumPy array as input and returns the shape and strides of the array.\n",
    "\n",
    "def shape_stride_relationship(arr):\n",
    "    return arr.shape\n",
    "    return arr.strides\n",
    "# Example usage:\n",
    "arr = np.array([[1, 2, 3], [4, 5, 6]])\n",
    "shape = shape_stride_relationship(arr)\n",
    "strides = shape_stride_relationship(arr)\n",
    "print(\"Shape:\", shape)\n",
    "print(\"Strides:\", strides)"
   ]
  },
  {
   "cell_type": "code",
   "execution_count": 12,
   "metadata": {
    "colab": {
     "base_uri": "https://localhost:8080/"
    },
    "executionInfo": {
     "elapsed": 573,
     "status": "ok",
     "timestamp": 1722186780407,
     "user": {
      "displayName": "Razi Ahmed",
      "userId": "02478934906081398849"
     },
     "user_tz": -330
    },
    "id": "i7HSrCAoVJb-",
    "outputId": "879d8f56-66b8-4871-9b89-98682ddb56b9"
   },
   "outputs": [
    {
     "name": "stdout",
     "output_type": "stream",
     "text": [
      "Shape: (2, 3)\n",
      "Strides: (24, 8)\n"
     ]
    }
   ],
   "source": [
    "#10. Design a function shape_stride_relationship that takes a NumPy array as input and returns the shape and strides of the array.\n",
    "\n",
    "def shape_stride_relationship(arr):\n",
    "    return arr.shape, arr.strides\n",
    "\n",
    "# Example usage:\n",
    "arr = np.array([[1, 2, 3], [4, 5, 6]])\n",
    "shape, strides = shape_stride_relationship(arr)\n",
    "print(\"Shape:\", shape)\n",
    "print(\"Strides:\", strides)\n"
   ]
  },
  {
   "cell_type": "code",
   "execution_count": 13,
   "metadata": {
    "colab": {
     "base_uri": "https://localhost:8080/"
    },
    "executionInfo": {
     "elapsed": 773,
     "status": "ok",
     "timestamp": 1722186796405,
     "user": {
      "displayName": "Razi Ahmed",
      "userId": "02478934906081398849"
     },
     "user_tz": -330
    },
    "id": "NgCzQpwoVMm0",
    "outputId": "8f8bb048-eaff-4574-9178-9dcf9b88429c"
   },
   "outputs": [
    {
     "name": "stdout",
     "output_type": "stream",
     "text": [
      "[0. 0. 0. 0. 0.]\n"
     ]
    }
   ],
   "source": [
    "#11. Create a function `create_zeros_array` that takes an integer `n` as input and returns a NumPy array of zeros with `n` elements.\n",
    "\n",
    "def create_zeros_array(arr):\n",
    "    return np.zeros(n)\n",
    "\n",
    "# Example usage:\n",
    "n = 5\n",
    "zeros_array = create_zeros_array(n)\n",
    "print(zeros_array)\n"
   ]
  },
  {
   "cell_type": "code",
   "execution_count": 14,
   "metadata": {
    "colab": {
     "base_uri": "https://localhost:8080/"
    },
    "executionInfo": {
     "elapsed": 563,
     "status": "ok",
     "timestamp": 1722186804554,
     "user": {
      "displayName": "Razi Ahmed",
      "userId": "02478934906081398849"
     },
     "user_tz": -330
    },
    "id": "pFMZ48ypVQei",
    "outputId": "9973c688-42b6-4b62-e487-c0240af53a43"
   },
   "outputs": [
    {
     "name": "stdout",
     "output_type": "stream",
     "text": [
      "[[1. 1. 1. 1.]\n",
      " [1. 1. 1. 1.]\n",
      " [1. 1. 1. 1.]]\n"
     ]
    }
   ],
   "source": [
    "#12. Write a function `create_ones_matrix` that takes integers `rows` and `cols` as inputs and generates a 2D NumPy array filled with ones of size `rows x co\n",
    "\n",
    "def create_ones_matrix(rows, cols):\n",
    "    return np.ones((rows, cols))\n",
    "\n",
    "# Example usage:\n",
    "rows = 3\n",
    "cols = 4\n",
    "ones_matrix = create_ones_matrix(rows, cols)\n",
    "print(ones_matrix)\n"
   ]
  },
  {
   "cell_type": "code",
   "execution_count": 15,
   "metadata": {
    "colab": {
     "base_uri": "https://localhost:8080/"
    },
    "executionInfo": {
     "elapsed": 501,
     "status": "ok",
     "timestamp": 1722186815607,
     "user": {
      "displayName": "Razi Ahmed",
      "userId": "02478934906081398849"
     },
     "user_tz": -330
    },
    "id": "W0yaExn7VSfT",
    "outputId": "6b4e7039-7683-4c58-a1e3-1f5323d423a2"
   },
   "outputs": [
    {
     "name": "stdout",
     "output_type": "stream",
     "text": [
      "[0 2 4 6 8]\n"
     ]
    }
   ],
   "source": [
    "# 13. Write a function `generate_range_array` that takes three integers start, stop, and step as arguments and creates a NumPy array with a range starting from `start`, ending at stop (exclusive), and with the specified step\n",
    "\n",
    "def generate_range_array(start, stop, step):\n",
    "    return np.arange(start, stop, step)\n",
    "\n",
    "# Example usage:\n",
    "start = 0\n",
    "stop = 10\n",
    "step = 2\n",
    "result = generate_range_array(start, stop, step)\n",
    "print(result)\n"
   ]
  },
  {
   "cell_type": "code",
   "execution_count": null,
   "metadata": {},
   "outputs": [],
   "source": [
    "#Q14. Design a function `generate_linear_space` that takes two floats `start`, `stop`, and an integer `num` as\n",
    "arguments and generates a NumPy array with num equally spaced values between `start` and `stop`\n",
    "(inclusive)."
   ]
  },
  {
   "cell_type": "code",
   "execution_count": 10,
   "metadata": {},
   "outputs": [
    {
     "name": "stdout",
     "output_type": "stream",
     "text": [
      "[ 0.   2.5  5.   7.5 10. ]\n"
     ]
    }
   ],
   "source": [
    "def generate_linear_space(start, stop, num):\n",
    "    return np.linspace(start, stop, num)\n",
    "\n",
    "\n",
    "#Example usage:\n",
    "start = 0.0\n",
    "stop = 10.0\n",
    "num = 5\n",
    "result = generate_linear_space(start, stop, num)\n",
    "print(result)"
   ]
  },
  {
   "cell_type": "code",
   "execution_count": 7,
   "metadata": {
    "colab": {
     "base_uri": "https://localhost:8080/"
    },
    "executionInfo": {
     "elapsed": 532,
     "status": "ok",
     "timestamp": 1722186835685,
     "user": {
      "displayName": "Razi Ahmed",
      "userId": "02478934906081398849"
     },
     "user_tz": -330
    },
    "id": "ka2jXMswVXPP",
    "outputId": "278e6b3d-6982-4d7e-e059-19a1892a4388"
   },
   "outputs": [
    {
     "name": "stdout",
     "output_type": "stream",
     "text": [
      "[[1. 0. 0. 0.]\n",
      " [0. 1. 0. 0.]\n",
      " [0. 0. 1. 0.]\n",
      " [0. 0. 0. 1.]]\n"
     ]
    }
   ],
   "source": [
    "#15. Create a function `create_identity_matrix` that takes an integer `n` as input and generates a square identity matrix of size `n x n` using `numpy.eye\n",
    "\n",
    "def create_identity_matrix(n):\n",
    "    return np.eye(n)\n",
    "\n",
    "#Example usage:\n",
    "n = 4\n",
    "result = create_identity_matrix(n)\n",
    "print(result)"
   ]
  },
  {
   "cell_type": "code",
   "execution_count": 14,
   "metadata": {
    "colab": {
     "base_uri": "https://localhost:8080/"
    },
    "executionInfo": {
     "elapsed": 524,
     "status": "ok",
     "timestamp": 1722186843782,
     "user": {
      "displayName": "Razi Ahmed",
      "userId": "02478934906081398849"
     },
     "user_tz": -330
    },
    "id": "dnBs69E3VaHt",
    "outputId": "27d4a4e7-cc3f-474b-c83b-664a0f7f4a71"
   },
   "outputs": [
    {
     "name": "stdout",
     "output_type": "stream",
     "text": [
      "[1 2 4 5 7]\n"
     ]
    }
   ],
   "source": [
    "#16. Write a function that takes a Python list and converts it into a NumPy array.\n",
    "\n",
    "def list_to_numpy_array(list):\n",
    "    return np.array(list)\n",
    "\n",
    "\n",
    "#Example usage:\n",
    "list = [1,2,4,5,7,]\n",
    "result = list_to_numpy_array(list)\n",
    "print(result)"
   ]
  },
  {
   "cell_type": "code",
   "execution_count": 19,
   "metadata": {
    "colab": {
     "base_uri": "https://localhost:8080/"
    },
    "executionInfo": {
     "elapsed": 534,
     "status": "ok",
     "timestamp": 1722186862176,
     "user": {
      "displayName": "Razi Ahmed",
      "userId": "02478934906081398849"
     },
     "user_tz": -330
    },
    "id": "cVwq-_-WVcGX",
    "outputId": "9b4d5b21-cf4f-4d64-d3e9-12925d2527b6"
   },
   "outputs": [
    {
     "name": "stdout",
     "output_type": "stream",
     "text": [
      "Original array: [10  2  3  4  5]\n",
      "View array: [10  2  3  4  5]\n"
     ]
    }
   ],
   "source": [
    "#17. Create a NumPy array and demonstrate the use of `numpy.view` to create a new array object with the same data.\n",
    "\n",
    "# Create a NumPy array\n",
    "original_array = np.array([1, 2, 3, 4, 5])\n",
    "\n",
    "# Use numpy.view to create a new array object with the same data\n",
    "view_array = original_array.view()\n",
    "\n",
    "# Modify the view_array\n",
    "view_array[0] = 10\n",
    "\n",
    "# Display both arrays\n",
    "print(\"Original array:\", original_array)\n",
    "print(\"View array:\", view_array)\n"
   ]
  },
  {
   "cell_type": "code",
   "execution_count": 18,
   "metadata": {
    "colab": {
     "base_uri": "https://localhost:8080/"
    },
    "executionInfo": {
     "elapsed": 496,
     "status": "ok",
     "timestamp": 1722186878654,
     "user": {
      "displayName": "Razi Ahmed",
      "userId": "02478934906081398849"
     },
     "user_tz": -330
    },
    "id": "u7vSgJ6CVgk4",
    "outputId": "73422d85-7ae9-4b47-976b-b52fcb3d02f6"
   },
   "outputs": [
    {
     "name": "stdout",
     "output_type": "stream",
     "text": [
      "Concatenated along axis 0:\n",
      "[[1 2]\n",
      " [3 4]\n",
      " [5 6]]\n"
     ]
    }
   ],
   "source": [
    "#18. Write a function that takes two NumPy arrays and concatenates them along a specified axis.\n",
    "\n",
    "import numpy as np\n",
    "\n",
    "def concatenate_arrays(arr1, arr2, axis=0):\n",
    "    return np.concatenate((arr1, arr2), axis=axis)\n",
    "\n",
    "# Example usage:\n",
    "arr1 = np.array([[1, 2], [3, 4]])\n",
    "arr2 = np.array([[5, 6]])\n",
    "\n",
    "# Concatenate along axis 0 (rows)\n",
    "result_axis_0 = concatenate_arrays(arr1, arr2, axis=0)\n",
    "print(\"Concatenated along axis 0:\")\n",
    "print(result_axis_0)\n",
    "\n",
    "\n"
   ]
  },
  {
   "cell_type": "code",
   "execution_count": 21,
   "metadata": {
    "colab": {
     "base_uri": "https://localhost:8080/"
    },
    "executionInfo": {
     "elapsed": 593,
     "status": "ok",
     "timestamp": 1722186896556,
     "user": {
      "displayName": "Razi Ahmed",
      "userId": "02478934906081398849"
     },
     "user_tz": -330
    },
    "id": "ktAyVE_NVkl_",
    "outputId": "d34e6ae5-1fa4-4e09-87db-cfc2c51c66dd"
   },
   "outputs": [
    {
     "name": "stdout",
     "output_type": "stream",
     "text": [
      "Array 1:\n",
      "[[1 2 3]\n",
      " [4 5 6]]\n",
      "\n",
      "Array 2:\n",
      "[[ 7  8]\n",
      " [ 9 10]]\n",
      "\n",
      "Concatenated Array:\n",
      "[[ 1  2  3  7  8]\n",
      " [ 4  5  6  9 10]]\n"
     ]
    }
   ],
   "source": [
    "#19. Create two NumPy arrays with different shapes and concatenate them horizontally using `numpy. concatenate.\n",
    "import numpy as np\n",
    "# Create two NumPy arrays with different shapes\n",
    "array1 = np.array([[1, 2, 3],\n",
    "                   [4, 5, 6]])\n",
    "\n",
    "array2 = np.array([[7, 8],\n",
    "                   [9, 10]])\n",
    "\n",
    "# Concatenate them horizontally\n",
    "result = np.concatenate((array1, array2), axis=1)\n",
    "\n",
    "print(\"Array 1:\")\n",
    "print(array1)\n",
    "print(\"\\nArray 2:\")\n",
    "print(array2)\n",
    "print(\"\\nConcatenated Array:\")\n",
    "print(result)\n"
   ]
  },
  {
   "cell_type": "code",
   "execution_count": 22,
   "metadata": {
    "colab": {
     "base_uri": "https://localhost:8080/"
    },
    "executionInfo": {
     "elapsed": 653,
     "status": "ok",
     "timestamp": 1722186903891,
     "user": {
      "displayName": "Razi Ahmed",
      "userId": "02478934906081398849"
     },
     "user_tz": -330
    },
    "id": "-ml2X_6pVo80",
    "outputId": "80ed3ffe-cedc-44d5-db27-932cb2df8c4e"
   },
   "outputs": [
    {
     "name": "stdout",
     "output_type": "stream",
     "text": [
      "[[ 1  2  3  7  8]\n",
      " [ 4  5  6  9 10]]\n"
     ]
    }
   ],
   "source": [
    "#19. Create two NumPy arrays with different shapes and concatenate them horizontally using `numpy. concatenate.\n",
    "import numpy as np\n",
    "# Create two NumPy arrays with different shapes\n",
    "array1 = np.array([[1, 2, 3],\n",
    "                   [4, 5, 6]])\n",
    "\n",
    "array2 = np.array([[7, 8],\n",
    "                   [9, 10]])\n",
    "\n",
    "# Concatenate them horizontally\n",
    "result = np.concatenate((array1, array2), axis=1)\n",
    "\n",
    "print(result)\n"
   ]
  },
  {
   "cell_type": "code",
   "execution_count": 23,
   "metadata": {
    "colab": {
     "base_uri": "https://localhost:8080/"
    },
    "executionInfo": {
     "elapsed": 537,
     "status": "ok",
     "timestamp": 1722186910507,
     "user": {
      "displayName": "Razi Ahmed",
      "userId": "02478934906081398849"
     },
     "user_tz": -330
    },
    "id": "tY0u__zhVqu6",
    "outputId": "2040a3ff-c721-41ad-fc8e-c15ceef78e08"
   },
   "outputs": [
    {
     "name": "stdout",
     "output_type": "stream",
     "text": [
      "Array 1:\n",
      "[[1 2 3]\n",
      " [4 5 6]]\n",
      "\n",
      "Array 2:\n",
      "[[ 7  8  9]\n",
      " [10 11 12]]\n",
      "\n",
      "Array 3:\n",
      "[[13 14 15]\n",
      " [16 17 18]]\n",
      "\n",
      "Vertically Stacked Result:\n",
      "[[ 1  2  3]\n",
      " [ 4  5  6]\n",
      " [ 7  8  9]\n",
      " [10 11 12]\n",
      " [13 14 15]\n",
      " [16 17 18]]\n"
     ]
    }
   ],
   "source": [
    "#20. Write a function that vertically stacks multiple NumPy arrays given as a list.\n",
    "\n",
    "\n",
    "import numpy as np\n",
    "\n",
    "def vertical_stack(arrays):\n",
    "    stacked_array = np.vstack(arrays)\n",
    "    return stacked_array\n",
    "\n",
    "# Example usage:\n",
    "array1 = np.array([[1, 2, 3],\n",
    "                   [4, 5, 6]])\n",
    "\n",
    "array2 = np.array([[7, 8, 9],\n",
    "                   [10, 11, 12]])\n",
    "\n",
    "array3 = np.array([[13, 14, 15],\n",
    "                   [16, 17, 18]])\n",
    "\n",
    "stacked_result = vertical_stack([array1, array2, array3])\n",
    "\n",
    "print(\"Array 1:\")\n",
    "print(array1)\n",
    "print(\"\\nArray 2:\")\n",
    "print(array2)\n",
    "print(\"\\nArray 3:\")\n",
    "print(array3)\n",
    "print(\"\\nVertically Stacked Result:\")\n",
    "print(stacked_result)\n"
   ]
  },
  {
   "cell_type": "code",
   "execution_count": 24,
   "metadata": {
    "colab": {
     "base_uri": "https://localhost:8080/"
    },
    "executionInfo": {
     "elapsed": 495,
     "status": "ok",
     "timestamp": 1722186917981,
     "user": {
      "displayName": "Razi Ahmed",
      "userId": "02478934906081398849"
     },
     "user_tz": -330
    },
    "id": "eYLyHycvVsRo",
    "outputId": "33402fc1-b939-463d-f7df-0cbaf9e0ad0b"
   },
   "outputs": [
    {
     "name": "stdout",
     "output_type": "stream",
     "text": [
      "Array of integers within the range [0, 10] with step 2: [ 0  2  4  6  8 10]\n"
     ]
    }
   ],
   "source": [
    "#21. Write a Python function using NumPy to create an array of integers within a specified range (inclusive) with a given step size\n",
    "\n",
    "import numpy as np\n",
    "\n",
    "def create_integer_array(start, stop, step):\n",
    "    int_array = np.arange(start, stop + 1, step)\n",
    "    return int_array\n",
    "\n",
    "# Example usage:\n",
    "start = 0\n",
    "stop = 10\n",
    "step = 2\n",
    "\n",
    "result_array = create_integer_array(start, stop, step)\n",
    "print(\"Array of integers within the range [{}, {}] with step {}: {}\".format(start, stop, step, result_array))\n"
   ]
  },
  {
   "cell_type": "code",
   "execution_count": 25,
   "metadata": {
    "colab": {
     "base_uri": "https://localhost:8080/"
    },
    "executionInfo": {
     "elapsed": 4,
     "status": "ok",
     "timestamp": 1722186922796,
     "user": {
      "displayName": "Razi Ahmed",
      "userId": "02478934906081398849"
     },
     "user_tz": -330
    },
    "id": "yItafiNgVuIO",
    "outputId": "5345b514-13d5-4d35-838d-6c0c6128296c"
   },
   "outputs": [
    {
     "name": "stdout",
     "output_type": "stream",
     "text": [
      "[0.         0.11111111 0.22222222 0.33333333 0.44444444 0.55555556\n",
      " 0.66666667 0.77777778 0.88888889 1.        ]\n"
     ]
    }
   ],
   "source": [
    "#22. Write a Python function using NumPy to generate an array of 10 equally spaced values between 0 and 1 (inclusive)\n",
    "\n",
    "def generate_array():\n",
    "    return np.linspace(0, 1, 10)\n",
    "\n",
    "# Test the function\n",
    "result = generate_array()\n",
    "print(result)\n"
   ]
  },
  {
   "cell_type": "code",
   "execution_count": 20,
   "metadata": {
    "colab": {
     "base_uri": "https://localhost:8080/"
    },
    "executionInfo": {
     "elapsed": 530,
     "status": "ok",
     "timestamp": 1722186932436,
     "user": {
      "displayName": "Razi Ahmed",
      "userId": "02478934906081398849"
     },
     "user_tz": -330
    },
    "id": "iA0S76ZcVvbL",
    "outputId": "0118a714-33a8-466b-a46a-d84a43d364c9"
   },
   "outputs": [
    {
     "name": "stdout",
     "output_type": "stream",
     "text": [
      "[   1.            5.62341325   31.6227766   177.827941   1000.        ]\n"
     ]
    }
   ],
   "source": [
    "#23. Write a Python function using NumPy to create an array of 5 logarithmically spaced values between 1 and 1000 (inclusive).\n",
    "\n",
    "def generate_log_array():\n",
    "    return np.logspace(0,3,5)\n",
    "\n",
    "result = generate_log_array()\n",
    "print(result)"
   ]
  },
  {
   "cell_type": "code",
   "execution_count": 27,
   "metadata": {
    "colab": {
     "base_uri": "https://localhost:8080/"
    },
    "executionInfo": {
     "elapsed": 1747,
     "status": "ok",
     "timestamp": 1722186941166,
     "user": {
      "displayName": "Razi Ahmed",
      "userId": "02478934906081398849"
     },
     "user_tz": -330
    },
    "id": "soNJ20fAVxuo",
    "outputId": "ded36947-f468-45e6-92fd-254d88313c27"
   },
   "outputs": [
    {
     "name": "stdout",
     "output_type": "stream",
     "text": [
      "   Column1  Column2  Column3\n",
      "0        8       11       36\n",
      "1       54       33       29\n",
      "2       38       94       32\n",
      "3       11       83        7\n",
      "4       60       82       31\n"
     ]
    }
   ],
   "source": [
    "#24. Create a Pandas DataFrame using a NumPy array that contains 5 rows and 3 columns, where the values are random integers between 1 and 100.\n",
    "\n",
    "import pandas as pd\n",
    "\n",
    "# Generate a NumPy array with random integers\n",
    "random_array = np.random.randint(1, 101, size=(5, 3))\n",
    "\n",
    "# Create a DataFrame using the NumPy array\n",
    "df = pd.DataFrame(random_array, columns=['Column1', 'Column2', 'Column3'])\n",
    "\n",
    "# Display the DataFrame\n",
    "print(df)\n",
    "\n",
    "\n"
   ]
  },
  {
   "cell_type": "code",
   "execution_count": 28,
   "metadata": {
    "colab": {
     "base_uri": "https://localhost:8080/"
    },
    "executionInfo": {
     "elapsed": 516,
     "status": "ok",
     "timestamp": 1722186946797,
     "user": {
      "displayName": "Razi Ahmed",
      "userId": "02478934906081398849"
     },
     "user_tz": -330
    },
    "id": "Mu_5rHaGVzjl",
    "outputId": "be8e9bdb-5f76-4868-8eb9-20bcfeb8afad"
   },
   "outputs": [
    {
     "name": "stdout",
     "output_type": "stream",
     "text": [
      "Original DataFrame:\n",
      "   A  B  C\n",
      "0  1  0  1\n",
      "1  2  2 -2\n",
      "2 -3  3  3\n",
      "3  4  0 -4\n",
      "4 -5  5  5\n",
      "\n",
      "DataFrame after replacing negative values in column 'B' with zeros:\n",
      "   A  B  C\n",
      "0  1  0  1\n",
      "1  2  2 -2\n",
      "2 -3  3  3\n",
      "3  4  0 -4\n",
      "4 -5  5  5\n"
     ]
    }
   ],
   "source": [
    "#25. Write a function that takes a Pandas DataFrame and replaces all negative values in a specific column with zeros. Use NumPy operations within the Pandas DataFrame\n",
    "\n",
    "def replace_negatives_with_zeros(df, column_name):\n",
    "    for index, value in enumerate(df[column_name]):\n",
    "        if value < 0:\n",
    "            df.at[index, column_name] = 0\n",
    "    return df\n",
    "\n",
    "# Test the function\n",
    "# Create a sample DataFrame\n",
    "data = {'A': [1, 2, -3, 4, -5],\n",
    "        'B': [-1, 2, 3, -4, 5],\n",
    "        'C': [1, -2, 3, -4, 5]}\n",
    "df = pd.DataFrame(data)\n",
    "\n",
    "# Replace negative values in column 'B' with zeros\n",
    "modified_df = replace_negatives_with_zeros(df, 'B')\n",
    "\n",
    "print(\"Original DataFrame:\")\n",
    "print(df)\n",
    "print(\"\\nDataFrame after replacing negative values in column 'B' with zeros:\")\n",
    "print(modified_df)\n"
   ]
  },
  {
   "cell_type": "code",
   "execution_count": 29,
   "metadata": {
    "colab": {
     "base_uri": "https://localhost:8080/"
    },
    "executionInfo": {
     "elapsed": 550,
     "status": "ok",
     "timestamp": 1722186955647,
     "user": {
      "displayName": "Razi Ahmed",
      "userId": "02478934906081398849"
     },
     "user_tz": -330
    },
    "id": "VslMnMyKV1PZ",
    "outputId": "da54f40a-144c-4b6b-f99c-f73655deb11d"
   },
   "outputs": [
    {
     "name": "stdout",
     "output_type": "stream",
     "text": [
      "30\n"
     ]
    }
   ],
   "source": [
    "'''26. Access the 3rd element from the given NumPy array\n",
    " arr = np.array([10, 20, 30, 40, 50])'''\n",
    "\n",
    "arr = np.array([10, 20, 30, 40, 50])\n",
    "Third_element = arr[2]\n",
    "print(Third_element)\n"
   ]
  },
  {
   "cell_type": "code",
   "execution_count": 30,
   "metadata": {
    "colab": {
     "base_uri": "https://localhost:8080/"
    },
    "executionInfo": {
     "elapsed": 602,
     "status": "ok",
     "timestamp": 1722186962997,
     "user": {
      "displayName": "Razi Ahmed",
      "userId": "02478934906081398849"
     },
     "user_tz": -330
    },
    "id": "fTlY6fVIV3T_",
    "outputId": "85e0848e-4784-4c6c-b08d-dbee096bd30b"
   },
   "outputs": [
    {
     "name": "stdout",
     "output_type": "stream",
     "text": [
      "Element at index (1, 2) of the array: 6\n"
     ]
    }
   ],
   "source": [
    "'''27. Retrieve the element at index (1, 2) from the 2D NumPy array\n",
    "        arr_2d = np.array([[1, 2, 3],\n",
    "                   [4, 5, 6],\n",
    "                   [7, 8, 9]]) '''\n",
    "import numpy as np\n",
    "\n",
    "# Access the element at index (1, 2)\n",
    "element_12 = arr_2d[1, 2]\n",
    "\n",
    "print(\"Element at index (1, 2) of the array:\", element_12)\n",
    "\n"
   ]
  },
  {
   "cell_type": "code",
   "execution_count": 32,
   "metadata": {},
   "outputs": [
    {
     "data": {
      "text/plain": [
       "array([ 8, 10,  7])"
      ]
     },
     "execution_count": 32,
     "metadata": {},
     "output_type": "execute_result"
    }
   ],
   "source": [
    "#Q28. Using boolean indexing, extract elements greater than 5 from the given NumPy array.\n",
    "\n",
    "        arr = np.array([3, 8, 2, 10, 5, 7])\n",
    "\n",
    "import numpy as np\n",
    "\n",
    "# Access the element at boolean indexing which is greater than 5\n",
    "arr = np.array([3, 8, 2, 10, 5, 7])\n",
    "result = arr[arr > 5]\n",
    "\n",
    "result"
   ]
  },
  {
   "cell_type": "code",
   "execution_count": 29,
   "metadata": {
    "colab": {
     "base_uri": "https://localhost:8080/"
    },
    "executionInfo": {
     "elapsed": 6,
     "status": "ok",
     "timestamp": 1722186987210,
     "user": {
      "displayName": "Razi Ahmed",
      "userId": "02478934906081398849"
     },
     "user_tz": -330
    },
    "id": "4_LdiLgvV7hL",
    "outputId": "23a22e54-752e-4a74-c4b1-134f6379161e"
   },
   "outputs": [
    {
     "name": "stdout",
     "output_type": "stream",
     "text": [
      "[3 4 5 6]\n"
     ]
    }
   ],
   "source": [
    "#29 Perform basic slicing to extract elements from index 2 to 5 (inclusive) from the given NumPy array.\n",
    "'''arr = np.array([1, 2, 3, 4, 5, 6, 7, 8, 9]) '''\n",
    "\n",
    "import numpy as np\n",
    "\n",
    "arr = np.array([1, 2, 3, 4, 5, 6, 7, 8, 9])\n",
    "sliced_arr = arr[2:6]  # indices 2, 3, 4, 5\n",
    "print(sliced_arr)\n"
   ]
  },
  {
   "cell_type": "code",
   "execution_count": 34,
   "metadata": {
    "colab": {
     "base_uri": "https://localhost:8080/"
    },
    "executionInfo": {
     "elapsed": 45,
     "status": "ok",
     "timestamp": 1722186995702,
     "user": {
      "displayName": "Razi Ahmed",
      "userId": "02478934906081398849"
     },
     "user_tz": -330
    },
    "id": "9OyhgdhBV-9t",
    "outputId": "3f7473ff-f7e9-477c-9baf-778242963ba8"
   },
   "outputs": [
    {
     "name": "stdout",
     "output_type": "stream",
     "text": [
      "[[2 3]\n",
      " [5 6]]\n"
     ]
    }
   ],
   "source": [
    "#30. Slice the 2D NumPy array to extract the sub-array `[[2, 3], [5, 6]]` from the given array.\n",
    "\n",
    "'''arr_2d = np.array([[1, 2, 3],\n",
    "                      [4, 5, 6],\n",
    "                      [7, 8, 9]])'''\n",
    "\n",
    "\n",
    "sliced_arr_2d = arr_2d[0:2, 1:3]  # rows 0 to 1 and columns 1 to 2\n",
    "print(sliced_arr_2d)\n"
   ]
  },
  {
   "cell_type": "code",
   "execution_count": 41,
   "metadata": {
    "colab": {
     "base_uri": "https://localhost:8080/",
     "height": 217
    },
    "executionInfo": {
     "elapsed": 27,
     "status": "error",
     "timestamp": 1722187022701,
     "user": {
      "displayName": "Razi Ahmed",
      "userId": "02478934906081398849"
     },
     "user_tz": -330
    },
    "id": "lywZDxQRWAw4",
    "outputId": "bf3adfb7-9e10-4ec4-fb13-28a49516c881"
   },
   "outputs": [
    {
     "name": "stdout",
     "output_type": "stream",
     "text": [
      "None\n"
     ]
    }
   ],
   "source": [
    "# 31.Write a NumPy function to extract elements in specific order from a given 2D array based on indices provided in another arra\n",
    "\n",
    "# Example usage\n",
    "def extract_elements(arr_2d, indices):\n",
    "     arr_2d = np.array([[1, 2, 3],\n",
    "                   [4, 5, 6],\n",
    "                   [7, 8, 9]])\n",
    "\n",
    "indices = np.array([0, 4, 8])  # Example indices (flat index)\n",
    "\n",
    "extracted_elements = extract_elements(arr_2d, indices)\n",
    "print(extracted_elements)\n",
    "\n"
   ]
  },
  {
   "cell_type": "code",
   "execution_count": 36,
   "metadata": {
    "colab": {
     "base_uri": "https://localhost:8080/"
    },
    "executionInfo": {
     "elapsed": 10,
     "status": "ok",
     "timestamp": 1722187029034,
     "user": {
      "displayName": "Razi Ahmed",
      "userId": "02478934906081398849"
     },
     "user_tz": -330
    },
    "id": "2MMt1hFYWHHw",
    "outputId": "c248483a-d91f-4fc6-eedc-0210ab36c6cf"
   },
   "outputs": [
    {
     "name": "stdout",
     "output_type": "stream",
     "text": [
      "[ 7  9  6  8 10]\n"
     ]
    }
   ],
   "source": [
    "# 32. Create a NumPy function that filters elements greater than a threshold from a given 1D array using boolean indexing.\n",
    "\n",
    "import numpy as np\n",
    "\n",
    "def filter_greater_than_threshold(arr, threshold):\n",
    "    \"\"\"\n",
    "    Filters elements greater than a given threshold from a 1D array.\n",
    "\n",
    "    Parameters:\n",
    "    arr (numpy.ndarray): Input 1D array.\n",
    "    threshold (float): Threshold value.\n",
    "\n",
    "    Returns:\n",
    "    numpy.ndarray: Array containing elements greater than the threshold.\n",
    "    \"\"\"\n",
    "    # Ensure the input is a numpy array\n",
    "    arr = np.asarray(arr)\n",
    "    # Use boolean indexing to filter elements\n",
    "    filtered_array = arr[arr > threshold]\n",
    "    return filtered_array\n",
    "\n",
    "# Example usage:\n",
    "array = np.array([1, 3, 5, 7, 9, 2, 4, 6, 8, 10])\n",
    "threshold = 5\n",
    "filtered_array = filter_greater_than_threshold(array, threshold)\n",
    "print(filtered_array)\n"
   ]
  },
  {
   "cell_type": "code",
   "execution_count": 37,
   "metadata": {
    "colab": {
     "base_uri": "https://localhost:8080/"
    },
    "executionInfo": {
     "elapsed": 1770,
     "status": "ok",
     "timestamp": 1722187044928,
     "user": {
      "displayName": "Razi Ahmed",
      "userId": "02478934906081398849"
     },
     "user_tz": -330
    },
    "id": "_AAImHuoWI2z",
    "outputId": "f377d6d1-bf59-443e-82cc-6513d1da1517"
   },
   "outputs": [
    {
     "name": "stdout",
     "output_type": "stream",
     "text": [
      "3D Array:\n",
      " [[[68 83 99 39 11]\n",
      "  [26  5 64 31 25]\n",
      "  [ 0 43 69 62 74]\n",
      "  [58 38 79 18 84]\n",
      "  [74 42 52 57 84]]\n",
      "\n",
      " [[54 37  3  3 86]\n",
      "  [16 73 35 72 25]\n",
      "  [58 33  3 18 34]\n",
      "  [ 1 94 62 96 49]\n",
      "  [ 5  1 23  3 37]]\n",
      "\n",
      " [[95  1 61 63 14]\n",
      "  [75 27 63 10 48]\n",
      "  [99 68 89 10 45]\n",
      "  [ 4 31 92 42 48]\n",
      "  [45  2 43 75 35]]\n",
      "\n",
      " [[80  0 41 47 94]\n",
      "  [52 73  1 69 88]\n",
      "  [37 25 78 60 87]\n",
      "  [55 13 13 43 34]\n",
      "  [53 20  5 32 72]]\n",
      "\n",
      " [[92 92 80 90 61]\n",
      "  [47 95 70 82 76]\n",
      "  [42  4 10 95 56]\n",
      "  [17 99 45 94 40]\n",
      "  [48 70 13 84 93]]]\n",
      "Extracted Elements:\n",
      " [64 18 48]\n"
     ]
    }
   ],
   "source": [
    "# 33.  Develop a NumPy function that extracts specific elements from a 3D array using indices provided in three separate arrays for each dimension.\n",
    "\n",
    "import numpy as np\n",
    "\n",
    "def extract_elements_3d(arr, indices_x, indices_y, indices_z):\n",
    "    \"\"\"\n",
    "    Extracts specific elements from a 3D array using indices provided in three separate arrays for each dimension.\n",
    "\n",
    "    Parameters:\n",
    "    arr (numpy.ndarray): Input 3D array.\n",
    "    indices_x (numpy.ndarray): Array of indices for the first dimension.\n",
    "    indices_y (numpy.ndarray): Array of indices for the second dimension.\n",
    "    indices_z (numpy.ndarray): Array of indices for the third dimension.\n",
    "\n",
    "    Returns:\n",
    "    numpy.ndarray: Array containing the extracted elements.\n",
    "    \"\"\"\n",
    "    # Ensure the input arrays are numpy arrays\n",
    "    indices_x = np.asarray(indices_x)\n",
    "    indices_y = np.asarray(indices_y)\n",
    "    indices_z = np.asarray(indices_z)\n",
    "\n",
    "    # Use advanced indexing to extract the elements\n",
    "    extracted_elements = arr[indices_x, indices_y, indices_z]\n",
    "\n",
    "    return extracted_elements\n",
    "\n",
    "# Example usage:\n",
    "array_3d = np.random.randint(0, 100, (5, 5, 5))\n",
    "indices_x = np.array([0, 1, 2])\n",
    "indices_y = np.array([1, 2, 3])\n",
    "indices_z = np.array([2, 3, 4])\n",
    "\n",
    "extracted_elements = extract_elements_3d(array_3d, indices_x, indices_y, indices_z)\n",
    "print(\"3D Array:\\n\", array_3d)\n",
    "print(\"Extracted Elements:\\n\", extracted_elements)\n"
   ]
  },
  {
   "cell_type": "code",
   "execution_count": 6,
   "metadata": {
    "colab": {
     "base_uri": "https://localhost:8080/"
    },
    "executionInfo": {
     "elapsed": 10,
     "status": "ok",
     "timestamp": 1722187050170,
     "user": {
      "displayName": "Razi Ahmed",
      "userId": "02478934906081398849"
     },
     "user_tz": -330
    },
    "id": "kwYX-JcYWML2",
    "outputId": "e1fde5c5-4887-4908-d6a8-54a7fcb03f6c"
   },
   "outputs": [],
   "source": [
    "# 34.  Write a NumPy function that returns elements from an array where both two conditions are satisfied using boolean indexing.\n",
    "\n",
    "import numpy as np\n",
    "\n",
    "def filter_array(arr, condition1, condition2):\n",
    "    \"\"\"\n",
    "    Filters an array based on two conditions using boolean indexing.\n",
    "\n",
    "    Args:\n",
    "        arr: The NumPy array to filter.\n",
    "        condition1: The first condition to apply (e.g., arr > 5).\n",
    "        condition2: The second condition to apply (e.g., arr < 10).\n",
    "\n",
    "    Returns:\n",
    "        A NumPy array containing elements that satisfy both conditions.\n",
    "    \"\"\"\n",
    "\n",
    "    mask = condition1 & condition2\n",
    "    return arr[mask]\n"
   ]
  },
  {
   "cell_type": "code",
   "execution_count": 39,
   "metadata": {
    "colab": {
     "base_uri": "https://localhost:8080/"
    },
    "executionInfo": {
     "elapsed": 823,
     "status": "ok",
     "timestamp": 1722187059557,
     "user": {
      "displayName": "Razi Ahmed",
      "userId": "02478934906081398849"
     },
     "user_tz": -330
    },
    "id": "8bU-lk41WOUT",
    "outputId": "5c782df8-8379-4389-bd3f-eeaf0aa06832"
   },
   "outputs": [
    {
     "name": "stdout",
     "output_type": "stream",
     "text": [
      "2D Array:\n",
      " [[10 20 30]\n",
      " [40 50 60]\n",
      " [70 80 90]]\n",
      "Extracted Elements:\n",
      " [20 40 90]\n"
     ]
    }
   ],
   "source": [
    "# 35.  Create a NumPy function that extracts elements from a 2D array using row and column indices provided in separate arrays.\n",
    "\n",
    "\n",
    "import numpy as np\n",
    "\n",
    "def extract_elements_2d(arr, row_indices, col_indices):\n",
    "    \"\"\"\n",
    "    Extracts specific elements from a 2D array using row and column indices provided in separate arrays.\n",
    "\n",
    "    Parameters:\n",
    "    arr (numpy.ndarray): Input 2D array.\n",
    "    row_indices (list or numpy.ndarray): List or array of row indices.\n",
    "    col_indices (list or numpy.ndarray): List or array of column indices.\n",
    "\n",
    "    Returns:\n",
    "    numpy.ndarray: Array containing the extracted elements.\n",
    "    \"\"\"\n",
    "    # Convert indices to numpy arrays if they aren't already\n",
    "    row_indices = np.array(row_indices)\n",
    "    col_indices = np.array(col_indices)\n",
    "\n",
    "    # Extract elements using the provided indices\n",
    "    extracted_elements = arr[row_indices, col_indices]\n",
    "\n",
    "    return extracted_elements\n",
    "\n",
    "# Example usage:\n",
    "array_2d = np.array([[10, 20, 30],\n",
    "                     [40, 50, 60],\n",
    "                     [70, 80, 90]])\n",
    "\n",
    "row_indices = [0, 1, 2]\n",
    "col_indices = [1, 0, 2]\n",
    "\n",
    "extracted_elements = extract_elements_2d(array_2d, row_indices, col_indices)\n",
    "print(\"2D Array:\\n\", array_2d)\n",
    "print(\"Extracted Elements:\\n\", extracted_elements)\n"
   ]
  },
  {
   "cell_type": "code",
   "execution_count": 40,
   "metadata": {
    "colab": {
     "base_uri": "https://localhost:8080/"
    },
    "executionInfo": {
     "elapsed": 533,
     "status": "ok",
     "timestamp": 1722187065808,
     "user": {
      "displayName": "Razi Ahmed",
      "userId": "02478934906081398849"
     },
     "user_tz": -330
    },
    "id": "TjN8be2sWQsk",
    "outputId": "53221711-a818-47b8-eef8-ebd7db71b1dc"
   },
   "outputs": [
    {
     "name": "stdout",
     "output_type": "stream",
     "text": [
      "Original Array:\n",
      " [[1 2 3]\n",
      " [4 5 6]\n",
      " [7 8 9]]\n",
      "Array after adding 5:\n",
      " [[ 6  7  8]\n",
      " [ 9 10 11]\n",
      " [12 13 14]]\n"
     ]
    }
   ],
   "source": [
    "# 36. Given an array arr of shape (3, 3), add a scalar value of 5 to each element using NumPy broadcasting.\n",
    "\n",
    "import numpy as np\n",
    "\n",
    "# Given array of shape (3, 3)\n",
    "arr = np.array([[1, 2, 3],\n",
    "                [4, 5, 6],\n",
    "                [7, 8, 9]])\n",
    "\n",
    "# Add a scalar value of 5 to each element\n",
    "arr_plus_5 = arr + 5\n",
    "\n",
    "# Print the resulting array\n",
    "print(\"Original Array:\\n\", arr)\n",
    "print(\"Array after adding 5:\\n\", arr_plus_5)\n"
   ]
  },
  {
   "cell_type": "code",
   "execution_count": 41,
   "metadata": {
    "colab": {
     "base_uri": "https://localhost:8080/"
    },
    "executionInfo": {
     "elapsed": 642,
     "status": "ok",
     "timestamp": 1722187072455,
     "user": {
      "displayName": "Razi Ahmed",
      "userId": "02478934906081398849"
     },
     "user_tz": -330
    },
    "id": "AvF0HcheWSS1",
    "outputId": "a665a554-de42-47e6-8ad4-5943d5cd6596"
   },
   "outputs": [
    {
     "name": "stdout",
     "output_type": "stream",
     "text": [
      "Array arr1:\n",
      " [[2 3 4]]\n",
      "Array arr2:\n",
      " [[ 1  2  3  4]\n",
      " [ 5  6  7  8]\n",
      " [ 9 10 11 12]]\n",
      "Resulting array after broadcasting and multiplying:\n",
      " [[ 2  4  6  8]\n",
      " [15 18 21 24]\n",
      " [36 40 44 48]]\n"
     ]
    }
   ],
   "source": [
    "# 37. Consider two arrays arr1 of shape (1, 3) and arr2 of shape (3, 4). Multiply each row of arr2 by the corresponding element in arr1 using NumPy broadcasting.\n",
    "\n",
    "import numpy as np\n",
    "\n",
    "# Given arrays\n",
    "arr1 = np.array([[2, 3, 4]])  # shape (1, 3)\n",
    "arr2 = np.array([[1, 2, 3, 4],\n",
    "                 [5, 6, 7, 8],\n",
    "                 [9, 10, 11, 12]])  # shape (3, 4)\n",
    "\n",
    "# Multiply each row of arr2 by the corresponding element in arr1\n",
    "result = arr2 * arr1.T\n",
    "\n",
    "# Print the resulting array\n",
    "print(\"Array arr1:\\n\", arr1)\n",
    "print(\"Array arr2:\\n\", arr2)\n",
    "print(\"Resulting array after broadcasting and multiplying:\\n\", result)\n"
   ]
  },
  {
   "cell_type": "code",
   "execution_count": 42,
   "metadata": {
    "colab": {
     "base_uri": "https://localhost:8080/"
    },
    "executionInfo": {
     "elapsed": 578,
     "status": "ok",
     "timestamp": 1722187080137,
     "user": {
      "displayName": "Razi Ahmed",
      "userId": "02478934906081398849"
     },
     "user_tz": -330
    },
    "id": "NmdKnacPWT4m",
    "outputId": "a1b1279f-f69e-4cec-c9dc-25334438ef46"
   },
   "outputs": [
    {
     "name": "stdout",
     "output_type": "stream",
     "text": [
      "Array arr1:\n",
      " [1 2 3 4]\n",
      "Array arr2:\n",
      " [[ 10  20  30]\n",
      " [ 40  50  60]\n",
      " [ 70  80  90]\n",
      " [100 110 120]]\n",
      "Resulting array after broadcasting and adding:\n",
      " [[ 11  21  31]\n",
      " [ 42  52  62]\n",
      " [ 73  83  93]\n",
      " [104 114 124]]\n"
     ]
    }
   ],
   "source": [
    "# 38. Given a 1D array arr1 of shape (1, 4) and a 2D array arr2 of shape (4, 3), add arr1 to each row of arr2 using NumPy broadcasting\n",
    "\n",
    "import numpy as np\n",
    "\n",
    "# Given arrays\n",
    "arr1 = np.array([1, 2, 3, 4])  # shape (4,)\n",
    "arr2 = np.array([[10, 20, 30],\n",
    "                 [40, 50, 60],\n",
    "                 [70, 80, 90],\n",
    "                 [100, 110, 120]])  # shape (4, 3)\n",
    "\n",
    "# Reshape arr1 to (1, 4) to allow broadcasting across arr2\n",
    "arr1_reshaped = arr1.reshape(4, 1)\n",
    "\n",
    "# Add arr1 to each row of arr2\n",
    "result = arr1_reshaped + arr2\n",
    "\n",
    "# Print the resulting array\n",
    "print(\"Array arr1:\\n\", arr1)\n",
    "print(\"Array arr2:\\n\", arr2)\n",
    "print(\"Resulting array after broadcasting and adding:\\n\", result)\n",
    "\n"
   ]
  },
  {
   "cell_type": "code",
   "execution_count": 43,
   "metadata": {
    "colab": {
     "base_uri": "https://localhost:8080/"
    },
    "executionInfo": {
     "elapsed": 843,
     "status": "ok",
     "timestamp": 1722187085153,
     "user": {
      "displayName": "Razi Ahmed",
      "userId": "02478934906081398849"
     },
     "user_tz": -330
    },
    "id": "OZMjCJl4WViD",
    "outputId": "b6e1f18e-59cb-4ed7-ae0a-6ba5f307f6aa"
   },
   "outputs": [
    {
     "name": "stdout",
     "output_type": "stream",
     "text": [
      "[[5 6 7]\n",
      " [6 7 8]\n",
      " [7 8 9]]\n"
     ]
    }
   ],
   "source": [
    "#39.  Consider two arrays arr1 of shape (3, 1) and arr2 of shape (1, 3). Add these arrays using NumPy broadcasting.\n",
    "\n",
    "import numpy as np\n",
    "\n",
    "# Create arr1 of shape (3, 1)\n",
    "arr1 = np.array([[1], [2], [3]])\n",
    "\n",
    "# Create arr2 of shape (1, 3)\n",
    "arr2 = np.array([[4, 5, 6]])\n",
    "\n",
    "# Add arr1 and arr2\n",
    "result = arr1 + arr2\n",
    "\n",
    "# Print the result\n",
    "print(result)\n"
   ]
  },
  {
   "cell_type": "code",
   "execution_count": 44,
   "metadata": {
    "colab": {
     "base_uri": "https://localhost:8080/"
    },
    "executionInfo": {
     "elapsed": 786,
     "status": "ok",
     "timestamp": 1722187090890,
     "user": {
      "displayName": "Razi Ahmed",
      "userId": "02478934906081398849"
     },
     "user_tz": -330
    },
    "id": "NxY10AcdWW74",
    "outputId": "52c3c17d-8d5a-40f0-ace2-b7242d807ff8"
   },
   "outputs": [
    {
     "name": "stdout",
     "output_type": "stream",
     "text": [
      "Expanded arr2:\n",
      "[[1 2 1]\n",
      " [3 4 3]]\n",
      "Result:\n",
      "[[ 1  4  3]\n",
      " [12 20 18]]\n"
     ]
    }
   ],
   "source": [
    "# 40. given arrays arr1 of shape(3,1) and arr2 of shape(2,2) perform multiplication using numpy broading handle the shape incompatibility.\n",
    "import numpy as np\n",
    "\n",
    "# Create arr1 of shape (2, 3)\n",
    "arr1 = np.array([[1, 2, 3], [4, 5, 6]])\n",
    "\n",
    "# Create arr2 of shape (2, 2)\n",
    "arr2 = np.array([[1, 2], [3, 4]])\n",
    "\n",
    "# Expand arr2 to match the shape of arr1\n",
    "arr2_expanded = np.array([[arr2[0,0], arr2[0,1], arr2[0,0]], [arr2[1,0], arr2[1,1], arr2[1,0]]])\n",
    "\n",
    "print(\"Expanded arr2:\")\n",
    "print(arr2_expanded)\n",
    "\n",
    "# Perform element-wise multiplication\n",
    "result = arr1 * arr2_expanded\n",
    "\n",
    "# Print the result\n",
    "print(\"Result:\")\n",
    "print(result)\n"
   ]
  },
  {
   "cell_type": "code",
   "execution_count": 45,
   "metadata": {
    "colab": {
     "base_uri": "https://localhost:8080/"
    },
    "executionInfo": {
     "elapsed": 802,
     "status": "ok",
     "timestamp": 1722187096649,
     "user": {
      "displayName": "Razi Ahmed",
      "userId": "02478934906081398849"
     },
     "user_tz": -330
    },
    "id": "xNcSZHd9WYW0",
    "outputId": "c15d1c3c-ee63-40ea-ceb9-a98ff68797ce"
   },
   "outputs": [
    {
     "name": "stdout",
     "output_type": "stream",
     "text": [
      "Column-wise mean:\n",
      " [2.5 3.5 4.5]\n"
     ]
    }
   ],
   "source": [
    "#41. Calculate column wise mean for the given array:\n",
    "''' arr = np.array([[1, 2, 3], [4, 5, 6]])'''\n",
    "\n",
    "import numpy as np\n",
    "\n",
    "# Define the array\n",
    "arr = np.array([[1, 2, 3], [4, 5, 6]])\n",
    "\n",
    "# Calculate column-wise mean\n",
    "column_wise_mean = np.mean(arr, axis=0)\n",
    "\n",
    "# Print the result\n",
    "print(\"Column-wise mean:\\n\", column_wise_mean)\n",
    "\n"
   ]
  },
  {
   "cell_type": "code",
   "execution_count": 47,
   "metadata": {
    "colab": {
     "base_uri": "https://localhost:8080/"
    },
    "executionInfo": {
     "elapsed": 507,
     "status": "ok",
     "timestamp": 1722187115158,
     "user": {
      "displayName": "Razi Ahmed",
      "userId": "02478934906081398849"
     },
     "user_tz": -330
    },
    "id": "vBGgchEcWZwu",
    "outputId": "03b50715-3814-4243-ceed-1b99df43b9eb"
   },
   "outputs": [
    {
     "name": "stdout",
     "output_type": "stream",
     "text": [
      "Maximum value in each row:\n",
      " [3 6]\n"
     ]
    }
   ],
   "source": [
    "# 42.  Find maximum value in each row of the given array:\n",
    "'''arr = np.array([[1, 2, 3], [4, 5, 6]])'''\n",
    "\n",
    "# Define the array\n",
    "\n",
    "arr = np.array([[1, 2, 3], [4, 5, 6]])\n",
    "\n",
    "#Max value in row\n",
    "\n",
    "max_value = np.max(arr, axis = 1)\n",
    "\n",
    "#Print the result\n",
    "print(\"Maximum value in each row:\\n\", max_value)\n"
   ]
  },
  {
   "cell_type": "code",
   "execution_count": 48,
   "metadata": {
    "colab": {
     "base_uri": "https://localhost:8080/"
    },
    "executionInfo": {
     "elapsed": 584,
     "status": "ok",
     "timestamp": 1722187128963,
     "user": {
      "displayName": "Razi Ahmed",
      "userId": "02478934906081398849"
     },
     "user_tz": -330
    },
    "id": "1O5fB9sfWbmS",
    "outputId": "593ceedc-8643-4d68-ee6f-ffa582408159"
   },
   "outputs": [
    {
     "name": "stdout",
     "output_type": "stream",
     "text": [
      "Indices of Maximum value:\n",
      " [1 1 1]\n"
     ]
    }
   ],
   "source": [
    "#43.  For the given array, find indices of maximum value in each column.\n",
    "''' arr = np.array([[1, 2, 3], [4, 5, 6]]) '''\n",
    "\n",
    "#Define the array\n",
    "\n",
    "arr = np.array([[1, 2, 3], [4, 5, 6]])\n",
    "\n",
    "#Indices of the max values\n",
    "\n",
    "col_max_indices = np.argmax(arr,axis = 0)\n",
    "\n",
    "#Print the Result\n",
    "print(\"Indices of Maximum value:\\n\",col_max_indices)\n"
   ]
  },
  {
   "cell_type": "code",
   "execution_count": 49,
   "metadata": {
    "colab": {
     "base_uri": "https://localhost:8080/"
    },
    "executionInfo": {
     "elapsed": 710,
     "status": "ok",
     "timestamp": 1722187134812,
     "user": {
      "displayName": "Razi Ahmed",
      "userId": "02478934906081398849"
     },
     "user_tz": -330
    },
    "id": "wGZocOQ2Whpn",
    "outputId": "2540379a-a894-471c-95ab-2c4d2edfdf43"
   },
   "outputs": [
    {
     "name": "stdout",
     "output_type": "stream",
     "text": [
      "Moving sum along rows:\n",
      "[[ 3  5]\n",
      " [ 9 11]]\n"
     ]
    }
   ],
   "source": [
    "# 44.  For the given array, apply custom function to calculate moving sum along rows.\n",
    "'''arr = np.array([[1, 2, 3], [4, 5, 6]])'''\n",
    "\n",
    "import numpy as np\n",
    "\n",
    "# Define the array\n",
    "arr = np.array([[1, 2, 3], [4, 5, 6]])\n",
    "\n",
    "# Define a simple function for the moving sum\n",
    "def moving_sum(row):\n",
    "    result = []\n",
    "    for i in range(len(row) - 1):\n",
    "        result.append(row[i] + row[i + 1])\n",
    "    return result\n",
    "\n",
    "# Apply the moving sum function to each row\n",
    "result = np.array([moving_sum(row) for row in arr])\n",
    "\n",
    "# Print the result\n",
    "print(\"Moving sum along rows:\")\n",
    "print(result)\n"
   ]
  },
  {
   "cell_type": "code",
   "execution_count": 50,
   "metadata": {
    "colab": {
     "base_uri": "https://localhost:8080/"
    },
    "executionInfo": {
     "elapsed": 487,
     "status": "ok",
     "timestamp": 1722187139234,
     "user": {
      "displayName": "Razi Ahmed",
      "userId": "02478934906081398849"
     },
     "user_tz": -330
    },
    "id": "q0dRaHQoWjBv",
    "outputId": "6c74ff80-835a-4f0d-89a6-547102f09d45"
   },
   "outputs": [
    {
     "name": "stdout",
     "output_type": "stream",
     "text": [
      "Array of even checks:\n",
      " [[ True  True  True]\n",
      " [False False False]]\n",
      "Are all elements in each column even:\n",
      " [False False False]\n"
     ]
    }
   ],
   "source": [
    "# 45. . In the given array, check if all elements in each column are even.\n",
    "'''arr = np.array([[2, 4, 6], [3, 5, 7]])'''\n",
    "\n",
    "# Define the array\n",
    "arr = np.array([[2, 4, 6], [3, 5, 7]])\n",
    "\n",
    "# Check if each element is even\n",
    "is_even = (arr % 2 == 0)\n",
    "print(\"Array of even checks:\\n\", is_even)\n",
    "\n",
    "# Check if all elements in each column are even\n",
    "all_even_columns = np.all(is_even, axis=0)\n",
    "\n",
    "# Print the result\n",
    "print(\"Are all elements in each column even:\\n\", all_even_columns)\n",
    "\n"
   ]
  },
  {
   "cell_type": "code",
   "execution_count": 51,
   "metadata": {
    "colab": {
     "base_uri": "https://localhost:8080/"
    },
    "executionInfo": {
     "elapsed": 492,
     "status": "ok",
     "timestamp": 1722187145081,
     "user": {
      "displayName": "Razi Ahmed",
      "userId": "02478934906081398849"
     },
     "user_tz": -330
    },
    "id": "jYPiNL6OWkOv",
    "outputId": "a7f5dd5c-d8ab-4164-ca61-d2e55dbdcec6"
   },
   "outputs": [
    {
     "name": "stdout",
     "output_type": "stream",
     "text": [
      "Reshaped matrix:\n",
      " [[1 2 3]\n",
      " [4 5 6]]\n"
     ]
    }
   ],
   "source": [
    "#46.  Given a NumPy array arr, reshape it into a matrix of dimensions `m` rows and `n` columns. Return the reshaped matrix.\n",
    "'''original_array = np.array([1, 2, 3, 4, 5, 6])'''\n",
    "\n",
    "import numpy as np\n",
    "\n",
    "# Define the original array\n",
    "original_array = np.array([1, 2, 3, 4, 5, 6])\n",
    "\n",
    "# Define the target dimensions\n",
    "m = 2\n",
    "n = 3\n",
    "\n",
    "# Reshape the array\n",
    "reshaped_matrix = original_array.reshape(m, n)\n",
    "\n",
    "# Print the result\n",
    "print(\"Reshaped matrix:\\n\",reshaped_matrix)\n",
    "\n",
    "\n",
    "\n"
   ]
  },
  {
   "cell_type": "code",
   "execution_count": 52,
   "metadata": {
    "colab": {
     "base_uri": "https://localhost:8080/"
    },
    "executionInfo": {
     "elapsed": 514,
     "status": "ok",
     "timestamp": 1722187151242,
     "user": {
      "displayName": "Razi Ahmed",
      "userId": "02478934906081398849"
     },
     "user_tz": -330
    },
    "id": "Df4aOKf_WlqW",
    "outputId": "5cbc1959-de46-409c-9a84-0a1645ad06bf"
   },
   "outputs": [
    {
     "name": "stdout",
     "output_type": "stream",
     "text": [
      "[1 2 3 4 5 6]\n"
     ]
    }
   ],
   "source": [
    "#47.  Create a function that takes a matrix as input and returns the flattened array\n",
    "'''input_matrix = np.array([[1, 2, 3], [4, 5, 6]])'''\n",
    "\n",
    "import numpy as np\n",
    "\n",
    "def flatten_matrix(matrix):\n",
    "    return matrix.flatten()\n",
    "\n",
    "input_matrix = np.array([[1, 2, 3], [4, 5, 6]])\n",
    "flattened_array = flatten_matrix(input_matrix)\n",
    "print(flattened_array)\n",
    "\n"
   ]
  },
  {
   "cell_type": "code",
   "execution_count": 53,
   "metadata": {
    "colab": {
     "base_uri": "https://localhost:8080/"
    },
    "executionInfo": {
     "elapsed": 590,
     "status": "ok",
     "timestamp": 1722187166046,
     "user": {
      "displayName": "Razi Ahmed",
      "userId": "02478934906081398849"
     },
     "user_tz": -330
    },
    "id": "sQ5WlcYPWnKf",
    "outputId": "1b55a0ba-6cba-498f-e5c3-4c460fa9198a"
   },
   "outputs": [
    {
     "name": "stdout",
     "output_type": "stream",
     "text": [
      "Concatenated along axis 0:\n",
      " [[1 2]\n",
      " [3 4]\n",
      " [5 6]\n",
      " [7 8]]\n",
      "Concatenated along axis 1:\n",
      " [[1 2 5 6]\n",
      " [3 4 7 8]]\n"
     ]
    }
   ],
   "source": [
    "#48.  Write a function that concatenates two given arrays along a specified axis.\n",
    "'''array1 = np.array([[1, 2], [3, 4]])\n",
    "array2 = np.array([[5, 6], [7, 8]])'''\n",
    "\n",
    "import numpy as np\n",
    "\n",
    "def concatenate_arrays(array1, array2, axis=0):\n",
    "    return np.concatenate((array1, array2), axis=axis)\n",
    "\n",
    "array1 = np.array([[1, 2], [3, 4]])\n",
    "array2 = np.array([[5, 6], [7, 8]])\n",
    "\n",
    "# Example: Concatenate along axis 0\n",
    "concatenated_axis_0 = concatenate_arrays(array1, array2, axis=0)\n",
    "print(\"Concatenated along axis 0:\\n\", concatenated_axis_0)\n",
    "\n",
    "# Example: Concatenate along axis 1\n",
    "concatenated_axis_1 = concatenate_arrays(array1, array2, axis=1)\n",
    "print(\"Concatenated along axis 1:\\n\", concatenated_axis_1)\n"
   ]
  },
  {
   "cell_type": "code",
   "execution_count": 54,
   "metadata": {
    "colab": {
     "base_uri": "https://localhost:8080/"
    },
    "executionInfo": {
     "elapsed": 455,
     "status": "ok",
     "timestamp": 1722187173755,
     "user": {
      "displayName": "Razi Ahmed",
      "userId": "02478934906081398849"
     },
     "user_tz": -330
    },
    "id": "jScz2tPmWqq9",
    "outputId": "3cde68e9-b848-47b9-ca31-7026f06316d5"
   },
   "outputs": [
    {
     "name": "stdout",
     "output_type": "stream",
     "text": [
      "Split along axis 0 into 3 parts:\n",
      " [array([[1, 2, 3]]), array([[4, 5, 6]]), array([[7, 8, 9]])]\n",
      "Split along axis 1 into 3 parts:\n",
      " [array([[1],\n",
      "       [4],\n",
      "       [7]]), array([[2],\n",
      "       [5],\n",
      "       [8]]), array([[3],\n",
      "       [6],\n",
      "       [9]])]\n"
     ]
    }
   ],
   "source": [
    "#49.  Create a function that splits an array into multiple sub-arrays along a specified axis.\n",
    "'''original_array = np.array([[1, 2, 3], [4, 5, 6], [7, 8, 9]])'''\n",
    "\n",
    "import numpy as np\n",
    "\n",
    "def split_array(array, indices_or_sections, axis=0):\n",
    "    return np.split(array, indices_or_sections, axis=axis)\n",
    "\n",
    "original_array = np.array([[1, 2, 3], [4, 5, 6], [7, 8, 9]])\n",
    "\n",
    "# Example: Split along axis 0 into 3 equal parts\n",
    "split_axis_0 = split_array(original_array, 3, axis=0)\n",
    "print(\"Split along axis 0 into 3 parts:\\n\", split_axis_0)\n",
    "\n",
    "# Example: Split along axis 1 into 3 equal parts\n",
    "split_axis_1 = split_array(original_array, 3, axis=1)\n",
    "print(\"Split along axis 1 into 3 parts:\\n\", split_axis_1)\n",
    "\n"
   ]
  },
  {
   "cell_type": "code",
   "execution_count": 56,
   "metadata": {
    "colab": {
     "base_uri": "https://localhost:8080/"
    },
    "executionInfo": {
     "elapsed": 2415,
     "status": "ok",
     "timestamp": 1722187196941,
     "user": {
      "displayName": "Razi Ahmed",
      "userId": "02478934906081398849"
     },
     "user_tz": -330
    },
    "id": "QNvuagXaWsqI",
    "outputId": "ce89188e-5dd6-4541-84c1-8e5d4010dab5"
   },
   "outputs": [
    {
     "name": "stdout",
     "output_type": "stream",
     "text": [
      "Resulting array: [ 1 10  3 11  5]\n"
     ]
    }
   ],
   "source": [
    "#50. Write a function that inserts and then deletes elements from a given array at specified indices.\n",
    "'''original_array = np.array([1, 2, 3, 4, 5])\n",
    "indices_to_insert = [2, 4]\n",
    "values_to_insert = [10, 11]\n",
    "indices_to_delete = [1, 3]'''\n",
    "\n",
    "\n",
    "import numpy as np\n",
    "\n",
    "def insert_and_delete_elements(array, indices_to_insert, values_to_insert, indices_to_delete):\n",
    "    # Insert elements at specified indices\n",
    "    array = np.insert(array, indices_to_insert, values_to_insert)\n",
    "\n",
    "    # Adjust the indices for deletion after insertion\n",
    "    adjusted_indices_to_delete = [index + sum(i < index for i in indices_to_insert) for index in indices_to_delete]\n",
    "\n",
    "    # Delete elements at specified indices\n",
    "    array = np.delete(array, adjusted_indices_to_delete)\n",
    "\n",
    "    return array\n",
    "\n",
    "original_array = np.array([1, 2, 3, 4, 5])\n",
    "indices_to_insert = [2, 4]\n",
    "values_to_insert = [10, 11]\n",
    "indices_to_delete = [1, 3]\n",
    "\n",
    "result_array = insert_and_delete_elements(original_array, indices_to_insert, values_to_insert, indices_to_delete)\n",
    "print(\"Resulting array:\", result_array)\n"
   ]
  },
  {
   "cell_type": "code",
   "execution_count": 57,
   "metadata": {
    "colab": {
     "base_uri": "https://localhost:8080/"
    },
    "executionInfo": {
     "elapsed": 4,
     "status": "ok",
     "timestamp": 1722187199629,
     "user": {
      "displayName": "Razi Ahmed",
      "userId": "02478934906081398849"
     },
     "user_tz": -330
    },
    "id": "u9VacbhNWxtE",
    "outputId": "be8bc353-57bf-4714-cc74-226067b0dfbc"
   },
   "outputs": [
    {
     "name": "stdout",
     "output_type": "stream",
     "text": [
      "Resulting array: [ 1 10  3 11  5]\n"
     ]
    }
   ],
   "source": [
    "#50. Write a function that inserts and then deletes elements from a given array at specified indices.\n",
    "'''original_array = np.array([1, 2, 3, 4, 5])\n",
    "indices_to_insert = [2, 4]\n",
    "values_to_insert = [10, 11]\n",
    "indices_to_delete = [1, 3]'''\n",
    "\n",
    "\n",
    "import numpy as np\n",
    "\n",
    "def insert_and_delete_elements(array, indices_to_insert, values_to_insert, indices_to_delete):\n",
    "    # Insert elements at specified indices\n",
    "    array = np.insert(array, indices_to_insert, values_to_insert)\n",
    "\n",
    "    # Adjust the indices for deletion after insertion\n",
    "    adjusted_indices_to_delete = [index + sum(i < index for i in indices_to_insert) for index in indices_to_delete]\n",
    "\n",
    "    # Delete elements at specified indices\n",
    "    array = np.delete(array, adjusted_indices_to_delete)\n",
    "\n",
    "    return array\n",
    "\n",
    "original_array = np.array([1, 2, 3, 4, 5])\n",
    "indices_to_insert = [2, 4]\n",
    "values_to_insert = [10, 11]\n",
    "indices_to_delete = [1, 3]\n",
    "\n",
    "result_array = insert_and_delete_elements(original_array, indices_to_insert, values_to_insert, indices_to_delete)\n",
    "print(\"Resulting array:\", result_array)\n"
   ]
  },
  {
   "cell_type": "code",
   "execution_count": 58,
   "metadata": {
    "colab": {
     "base_uri": "https://localhost:8080/"
    },
    "executionInfo": {
     "elapsed": 552,
     "status": "ok",
     "timestamp": 1722187217414,
     "user": {
      "displayName": "Razi Ahmed",
      "userId": "02478934906081398849"
     },
     "user_tz": -330
    },
    "id": "VmqymMQJWy9W",
    "outputId": "e68bf4f7-b272-4c16-d6dd-d017fb937d77"
   },
   "outputs": [
    {
     "name": "stdout",
     "output_type": "stream",
     "text": [
      "Resulting array: [ 1 10  3 11  5]\n"
     ]
    }
   ],
   "source": [
    "#50. Write a function that inserts and then deletes elements from a given array at specified indices.\n",
    "'''original_array = np.array([1, 2, 3, 4, 5])\n",
    "indices_to_insert = [2, 4]\n",
    "values_to_insert = [10, 11]\n",
    "indices_to_delete = [1, 3]'''\n",
    "\n",
    "\n",
    "import numpy as np\n",
    "\n",
    "def insert_and_delete_elements(array, indices_to_insert, values_to_insert, indices_to_delete):\n",
    "    # Insert elements at specified indices\n",
    "    array = np.insert(array, indices_to_insert, values_to_insert)\n",
    "\n",
    "    # Adjust the indices for deletion after insertion\n",
    "    adjusted_indices_to_delete = [index + sum(i < index for i in indices_to_insert) for index in indices_to_delete]\n",
    "\n",
    "    # Delete elements at specified indices\n",
    "    array = np.delete(array, adjusted_indices_to_delete)\n",
    "\n",
    "    return array\n",
    "\n",
    "original_array = np.array([1, 2, 3, 4, 5])\n",
    "indices_to_insert = [2, 4]\n",
    "values_to_insert = [10, 11]\n",
    "indices_to_delete = [1, 3]\n",
    "\n",
    "result_array = insert_and_delete_elements(original_array, indices_to_insert, values_to_insert, indices_to_delete)\n",
    "print(\"Resulting array:\", result_array)\n"
   ]
  },
  {
   "cell_type": "code",
   "execution_count": 59,
   "metadata": {
    "colab": {
     "base_uri": "https://localhost:8080/"
    },
    "executionInfo": {
     "elapsed": 11,
     "status": "ok",
     "timestamp": 1722187227431,
     "user": {
      "displayName": "Razi Ahmed",
      "userId": "02478934906081398849"
     },
     "user_tz": -330
    },
    "id": "k4gfKe5XW3TW",
    "outputId": "5429b84c-d3f3-4411-94eb-8710792a89e7"
   },
   "outputs": [
    {
     "name": "stdout",
     "output_type": "stream",
     "text": [
      "arr1: [5 8 8 0 6 8 9 2 3 1]\n",
      "arr2: [ 1  2  3  4  5  6  7  8  9 10]\n",
      "Result of element-wise addition: [ 6 10 11  4 11 14 16 10 12 11]\n"
     ]
    }
   ],
   "source": [
    "#51.Create a NumPy array `arr1` with random integers and another array `arr2` with integers from 1 to 10.Perform element-wise addition between `arr1` and `arr2`.\n",
    "\n",
    "import numpy as np\n",
    "\n",
    "# Create a NumPy array `arr1` with random integers\n",
    "arr1 = np.random.randint(0, 10, size=10)\n",
    "\n",
    "# Create another array `arr2` with integers from 1 to 10\n",
    "arr2 = np.arange(1, 11)\n",
    "\n",
    "# Perform element-wise addition between `arr1` and `arr2`\n",
    "result_array = np.add(arr1, arr2)\n",
    "\n",
    "print(\"arr1:\", arr1)\n",
    "print(\"arr2:\", arr2)\n",
    "print(\"Result of element-wise addition:\", result_array)\n"
   ]
  },
  {
   "cell_type": "code",
   "execution_count": 60,
   "metadata": {
    "colab": {
     "base_uri": "https://localhost:8080/"
    },
    "executionInfo": {
     "elapsed": 1227,
     "status": "ok",
     "timestamp": 1722187234650,
     "user": {
      "displayName": "Razi Ahmed",
      "userId": "02478934906081398849"
     },
     "user_tz": -330
    },
    "id": "1LLi3d9hW5vB",
    "outputId": "f021e996-50bb-44fa-ac34-13725d29fa44"
   },
   "outputs": [
    {
     "name": "stdout",
     "output_type": "stream",
     "text": [
      "arr1: [10  9  8  7  6  5  4  3  2  1]\n",
      "arr2: [ 1  2  3  4  5  6  7  8  9 10]\n",
      "Result of element-wise subtraction: [ 9  7  5  3  1 -1 -3 -5 -7 -9]\n"
     ]
    }
   ],
   "source": [
    "#52. Generate a NumPy array `arr1` with sequential integers from 10 to 1 and another array `arr2` with integers from 1 to 10. Subtract `arr2` from `arr1` element-wise.\n",
    "\n",
    "import numpy as np\n",
    "\n",
    "# Create a NumPy array `arr1` with sequential integers from 10 to 1\n",
    "arr1 = np.arange(10, 0, -1)\n",
    "\n",
    "# Create another array `arr2` with integers from 1 to 10\n",
    "arr2 = np.arange(1, 11)\n",
    "\n",
    "# Perform element-wise subtraction of `arr2` from `arr1`\n",
    "result_array = np.subtract(arr1, arr2)\n",
    "\n",
    "print(\"arr1:\", arr1)\n",
    "print(\"arr2:\", arr2)\n",
    "print(\"Result of element-wise subtraction:\", result_array)\n"
   ]
  },
  {
   "cell_type": "code",
   "execution_count": 61,
   "metadata": {
    "colab": {
     "base_uri": "https://localhost:8080/"
    },
    "executionInfo": {
     "elapsed": 7,
     "status": "ok",
     "timestamp": 1722187243045,
     "user": {
      "displayName": "Razi Ahmed",
      "userId": "02478934906081398849"
     },
     "user_tz": -330
    },
    "id": "5jfUNqu1W7TM",
    "outputId": "abac3fb7-ed22-4ca3-ed2c-e47d7c10c286"
   },
   "outputs": [
    {
     "name": "stdout",
     "output_type": "stream",
     "text": [
      "arr1: [2 2 2 8 8]\n",
      "arr2: [1 2 3 4 5]\n",
      "Result of element wise multiplication: [ 2  4  6 32 40]\n"
     ]
    }
   ],
   "source": [
    "#53. Create a NumPy array `arr1` with random integers and another array `arr2` with integers from 1 to 5.Perform element-wise multiplication between `arr1` and `arr2`.\n",
    "\n",
    "#Create a NumPy array `arr1` with random integers\n",
    "arr1 = np.random.randint(0, 10, size=5)\n",
    "\n",
    "# Create another array `arr2` with integers from 1 to 5\n",
    "arr2 = np.arange(1, 6)\n",
    "\n",
    "#Perform element-wise multiplication between `arr1` and `arr2`.\n",
    "result_array = np.multiply(arr1,arr2)\n",
    "\n",
    "print(\"arr1:\", arr1)\n",
    "print(\"arr2:\" ,arr2)\n",
    "print(\"Result of element wise multiplication:\" ,result_array)\n"
   ]
  },
  {
   "cell_type": "code",
   "execution_count": 62,
   "metadata": {
    "colab": {
     "base_uri": "https://localhost:8080/"
    },
    "executionInfo": {
     "elapsed": 607,
     "status": "ok",
     "timestamp": 1722187251861,
     "user": {
      "displayName": "Razi Ahmed",
      "userId": "02478934906081398849"
     },
     "user_tz": -330
    },
    "id": "Qykk89ReW9n2",
    "outputId": "1eb4c3c7-53ff-4118-9b50-b8f102fe8328"
   },
   "outputs": [
    {
     "name": "stdout",
     "output_type": "stream",
     "text": [
      "arr1: [ 2  4  6  8 10]\n",
      "arr2: [1 2 3 4 5]\n",
      "Result of the element-wise division. [2. 2. 2. 2. 2.]\n"
     ]
    }
   ],
   "source": [
    "#54. Generate a NumPy array `arr1` with even integers from 2 to 10 and another array `arr2` with integers from 1 to 5. Perform element-wise division of `arr1` by `arr2`.\n",
    "\n",
    "#create a numpy array 'arr1' with even integers from 2 to 10\n",
    "arr1 = np.arange(2,11,2)\n",
    "\n",
    "#create a numpy array 'arr2' with integer from 1 to 5\n",
    "arr2 = np.arange(1,6)\n",
    "\n",
    "# Perform element-wise division of `arr1` by `arr2`.\n",
    "result_array = np.divide(arr1,arr2)\n",
    "\n",
    "print(\"arr1:\",arr1)\n",
    "print(\"arr2:\",arr2)\n",
    "print(\"Result of the element-wise division.\",result_array)"
   ]
  },
  {
   "cell_type": "code",
   "execution_count": 63,
   "metadata": {
    "colab": {
     "base_uri": "https://localhost:8080/"
    },
    "executionInfo": {
     "elapsed": 610,
     "status": "ok",
     "timestamp": 1722187258005,
     "user": {
      "displayName": "Razi Ahmed",
      "userId": "02478934906081398849"
     },
     "user_tz": -330
    },
    "id": "ZsNDgaZnW_UG",
    "outputId": "2f00384d-6cf4-44f8-9684-7eb9411c628b"
   },
   "outputs": [
    {
     "name": "stdout",
     "output_type": "stream",
     "text": [
      "arr1: [1 2 3 4 5]\n",
      "arr2: [5 4 3 2 1]\n",
      "Result of element-wise exponentiation: [ 1 16 27 16  5]\n"
     ]
    }
   ],
   "source": [
    "#55. Create a NumPy array `arr1` with integers from 1 to 5 and another array `arr2` with the same numbers reversed. Calculate the exponentiation of `arr1` raised to the power of `arr2` element-wise.\n",
    "\n",
    "\n",
    "# Create a NumPy array `arr1` with integers from 1 to 5\n",
    "arr1 = np.arange(1, 6)\n",
    "\n",
    "# Create another array `arr2` with integers from 1 to 5 reversed\n",
    "arr2 = np.arange(5, 0, -1)\n",
    "\n",
    "# Calculate the exponentiation of `arr1` raised to the power of `arr2` element-wise\n",
    "result_array = np.power(arr1, arr2)\n",
    "\n",
    "print(\"arr1:\", arr1)\n",
    "print(\"arr2:\", arr2)\n",
    "print(\"Result of element-wise exponentiation:\", result_array)\n"
   ]
  },
  {
   "cell_type": "code",
   "execution_count": 64,
   "metadata": {
    "colab": {
     "base_uri": "https://localhost:8080/"
    },
    "executionInfo": {
     "elapsed": 736,
     "status": "ok",
     "timestamp": 1722187265134,
     "user": {
      "displayName": "Razi Ahmed",
      "userId": "02478934906081398849"
     },
     "user_tz": -330
    },
    "id": "TDQ-zYskXBKG",
    "outputId": "be26a9e8-76a4-4231-8f05-03e91505e2a9"
   },
   "outputs": [
    {
     "name": "stdout",
     "output_type": "stream",
     "text": [
      "Occurrences of 'hello': 3\n"
     ]
    }
   ],
   "source": [
    "#6. Write a function that counts the occurrences of a specific substring within a NumPy array of strings.\n",
    "'''arr = np.array(['hello', 'world', 'hello', 'numpy', 'hello'])'''\n",
    "\n",
    "import numpy as np\n",
    "\n",
    "def count_substring_occurrences(arr, substring):\n",
    "    # Use a list comprehension to count occurrences of the substring in each string\n",
    "    count = sum(s.count(substring) for s in arr)\n",
    "    return count\n",
    "\n",
    "arr = np.array(['hello', 'world', 'hello', 'numpy', 'hello'])\n",
    "substring = 'hello'\n",
    "\n",
    "# Count the occurrences of 'hello'\n",
    "occurrences = count_substring_occurrences(arr, substring)\n",
    "print(f\"Occurrences of '{substring}':\", occurrences)\n",
    "\n"
   ]
  },
  {
   "cell_type": "code",
   "execution_count": 65,
   "metadata": {
    "colab": {
     "base_uri": "https://localhost:8080/"
    },
    "executionInfo": {
     "elapsed": 694,
     "status": "ok",
     "timestamp": 1722187272152,
     "user": {
      "displayName": "Razi Ahmed",
      "userId": "02478934906081398849"
     },
     "user_tz": -330
    },
    "id": "QdyIFImRXC54",
    "outputId": "4d0db90e-0034-45da-d94d-eb6d582b3502"
   },
   "outputs": [
    {
     "name": "stdout",
     "output_type": "stream",
     "text": [
      "Uppercase characters extracted: ['H' 'W' 'OAI' 'GPT']\n"
     ]
    }
   ],
   "source": [
    "#57. Write a function that extracts uppercase characters from a NumPy array of strings. arr = np.array(['Hello', 'World', 'OpenAI', 'GPT'])\n",
    "'''arr = np.array(['Hello', 'World', 'OpenAI', 'GPT'])'''\n",
    "\n",
    "\n",
    "\n",
    "def extract_uppercase(arr):\n",
    "    # This list will store the uppercase characters for each string\n",
    "    result = []\n",
    "\n",
    "    # Loop through each string in the array\n",
    "    for string in arr:\n",
    "        # Create a new string to hold only the uppercase characters\n",
    "        uppercase_chars = ''\n",
    "        # Loop through each character in the string\n",
    "        for char in string:\n",
    "            # Check if the character is uppercase\n",
    "            if char.isupper():\n",
    "                # Add the uppercase character to our new string\n",
    "                uppercase_chars += char\n",
    "        # Append the result for this string to our list\n",
    "        result.append(uppercase_chars)\n",
    "\n",
    "    # Convert the list to a NumPy array and return it\n",
    "    return np.array(result)\n",
    "\n",
    "# Create a NumPy array of strings\n",
    "arr = np.array(['Hello', 'World', 'OpenAI', 'GPT'])\n",
    "\n",
    "# Call the function and get the uppercase characters\n",
    "uppercase_result = extract_uppercase(arr)\n",
    "\n",
    "# Print the result\n",
    "print(\"Uppercase characters extracted:\", uppercase_result)\n"
   ]
  },
  {
   "cell_type": "code",
   "execution_count": 66,
   "metadata": {
    "colab": {
     "base_uri": "https://localhost:8080/"
    },
    "executionInfo": {
     "elapsed": 5,
     "status": "ok",
     "timestamp": 1722187294835,
     "user": {
      "displayName": "Razi Ahmed",
      "userId": "02478934906081398849"
     },
     "user_tz": -330
    },
    "id": "Bt2L_vFzXEoA",
    "outputId": "a2bb456e-3c5f-43b8-d668-6f4a57aa7090"
   },
   "outputs": [
    {
     "name": "stdout",
     "output_type": "stream",
     "text": [
      "Modified array: ['orange' 'banana' 'grape' 'pineorange']\n"
     ]
    }
   ],
   "source": [
    "#58. Write a function that replaces occurrences of a substring in a NumPy array of strings with a new string.\n",
    "'''arr = np.array(['apple', 'banana', 'grape', 'pineapple'])'''\n",
    "import numpy as np\n",
    "\n",
    "def replace_substring(arr, old_substring, new_substring):\n",
    "    # This list will store the modified strings\n",
    "    result = []\n",
    "\n",
    "    # Loop through each string in the array\n",
    "    for string in arr:\n",
    "        # Replace the old substring with the new substring\n",
    "        modified_string = string.replace(old_substring, new_substring)\n",
    "        # Append the modified string to our list\n",
    "        result.append(modified_string)\n",
    "\n",
    "    # Convert the list to a NumPy array and return it\n",
    "    return np.array(result)\n",
    "\n",
    "# Create a NumPy array of strings\n",
    "arr = np.array(['apple', 'banana', 'grape', 'pineapple'])\n",
    "\n",
    "# Define the old substring to replace and the new substring\n",
    "old_substring = 'apple'\n",
    "new_substring = 'orange'\n",
    "\n",
    "# Call the function and get the modified array\n",
    "modified_array = replace_substring(arr, old_substring, new_substring)\n",
    "\n",
    "# Print the result\n",
    "print(\"Modified array:\", modified_array)\n",
    "\n"
   ]
  },
  {
   "cell_type": "code",
   "execution_count": 67,
   "metadata": {
    "colab": {
     "base_uri": "https://localhost:8080/"
    },
    "executionInfo": {
     "elapsed": 18,
     "status": "ok",
     "timestamp": 1722187298971,
     "user": {
      "displayName": "Razi Ahmed",
      "userId": "02478934906081398849"
     },
     "user_tz": -330
    },
    "id": "Oo1RA7k1XHn1",
    "outputId": "5690db48-1cf3-440d-a007-dbd2f52af605"
   },
   "outputs": [
    {
     "name": "stdout",
     "output_type": "stream",
     "text": [
      "Concatenated array: ['HelloOpen' 'WorldAI']\n"
     ]
    }
   ],
   "source": [
    "#59. Write a function that concatenates strings in a NumPy array element-wise.\n",
    "'''arr1 = np.array(['Hello', 'World'])\n",
    "arr2 = np.array(['Open', 'AI'])'''\n",
    "\n",
    "def concatenate_strings(arr1, arr2):\n",
    "    # Use numpy's vectorized operation to concatenate strings element-wise\n",
    "    return np.char.add(arr1, arr2)\n",
    "\n",
    "# Create two NumPy arrays of strings\n",
    "arr1 = np.array(['Hello', 'World'])\n",
    "arr2 = np.array(['Open', 'AI'])\n",
    "\n",
    "# Call the function to concatenate the arrays element-wise\n",
    "concatenated_array = concatenate_strings(arr1, arr2)\n",
    "\n",
    "# Print the result\n",
    "print(\"Concatenated array:\", concatenated_array)\n"
   ]
  },
  {
   "cell_type": "code",
   "execution_count": 68,
   "metadata": {
    "colab": {
     "base_uri": "https://localhost:8080/"
    },
    "executionInfo": {
     "elapsed": 15,
     "status": "ok",
     "timestamp": 1722187298973,
     "user": {
      "displayName": "Razi Ahmed",
      "userId": "02478934906081398849"
     },
     "user_tz": -330
    },
    "id": "k03NhPjmXI-V",
    "outputId": "1ff9e121-96d5-41ad-b0b1-48c537d5c016"
   },
   "outputs": [
    {
     "name": "stdout",
     "output_type": "stream",
     "text": [
      "Length of the longest string: 9\n"
     ]
    }
   ],
   "source": [
    "#60. Write a function that finds the length of the longest string in a NumPy array. arr = np.array(['apple', 'banana', 'grape', 'pineapple'])\n",
    "'''arr = np.array(['apple', 'banana', 'grape', 'pineapple'])'''\n",
    "\n",
    "import numpy as np\n",
    "\n",
    "def find_longest_string_length(arr):\n",
    "    # Initialize the maximum length to zero\n",
    "    max_length = 0\n",
    "\n",
    "    # Loop through each string in the array\n",
    "    for string in arr:\n",
    "        # Calculate the length of the current string\n",
    "        length = len(string)\n",
    "        # Update the maximum length if the current length is greater\n",
    "        if length > max_length:\n",
    "            max_length = length\n",
    "\n",
    "    # Return the maximum length found\n",
    "    return max_length\n",
    "\n",
    "# Create a NumPy array of strings\n",
    "arr = np.array(['apple', 'banana', 'grape', 'pineapple'])\n",
    "\n",
    "# Call the function to find the length of the longest string\n",
    "longest_length = find_longest_string_length(arr)\n",
    "\n",
    "# Print the result\n",
    "print(\"Length of the longest string:\", longest_length)\n"
   ]
  },
  {
   "cell_type": "code",
   "execution_count": 69,
   "metadata": {
    "colab": {
     "base_uri": "https://localhost:8080/"
    },
    "executionInfo": {
     "elapsed": 1940,
     "status": "ok",
     "timestamp": 1722187306006,
     "user": {
      "displayName": "Razi Ahmed",
      "userId": "02478934906081398849"
     },
     "user_tz": -330
    },
    "id": "Gl0Z6m8hXKPC",
    "outputId": "54b757aa-016e-470d-90b9-59fb4be3548a"
   },
   "outputs": [
    {
     "name": "stdout",
     "output_type": "stream",
     "text": [
      "Dataset: [757 857 721 877 481  86 401 643 712  94 281 853 408 448 299 733 861 414\n",
      " 614 359 681 769 371 501 983 109 685 691 732  99 132 552 906 307 436 859\n",
      " 259 296 790 984 614 657 806 578 987 566 395 460 619 876 727 133 525 589\n",
      " 444 335 270 534 467 877  45 425  80 402 726 158 932 953  11 266 774 518\n",
      "  98 362 940 738   6 310 526 708  66 776 759  85 538 167 785 335 878 253\n",
      " 538 571 474 941 692 719 270 414 348 586]\n",
      "Mean: 526.73\n",
      "Median: 536.0\n",
      "Variance: 72163.3571\n",
      "Standard Deviation: 268.63238282083563\n"
     ]
    }
   ],
   "source": [
    "#61. Create a dataset of 100 random integers between 1 and 1000. Compute the mean, median, variance, and standard deviation of the dataset using NumPy's functions.\n",
    "\n",
    "# Step 1: Generate a dataset of 100 random integers between 1 and 1000\n",
    "dataset = np.random.randint(1,1001,size = 100)\n",
    "\n",
    "# Step 2: Compute the mean\n",
    "mean_value = np.mean(dataset)\n",
    "\n",
    "# Step 3: Compute the median\n",
    "median_value = np.median(dataset)\n",
    "\n",
    "# Step 4: Compute the variance\n",
    "variance_value = np.var(dataset)\n",
    "\n",
    "# Step 5: Compute the standard deviation\n",
    "standard_deviation_value = np.std(dataset)\n",
    "\n",
    "print(\"Dataset:\",dataset)\n",
    "print(\"Mean:\",mean_value)\n",
    "print(\"Median:\",median_value)\n",
    "print(\"Variance:\",variance_value)\n",
    "print(\"Standard Deviation:\",standard_deviation_value)"
   ]
  },
  {
   "cell_type": "code",
   "execution_count": 72,
   "metadata": {
    "colab": {
     "base_uri": "https://localhost:8080/"
    },
    "executionInfo": {
     "elapsed": 6,
     "status": "ok",
     "timestamp": 1722187326786,
     "user": {
      "displayName": "Razi Ahmed",
      "userId": "02478934906081398849"
     },
     "user_tz": -330
    },
    "id": "bMl5_35QXMV0",
    "outputId": "469f6e24-efa7-425f-fed3-1f000d6c9209"
   },
   "outputs": [
    {
     "name": "stdout",
     "output_type": "stream",
     "text": [
      "25th percentile: 12.0\n",
      "75th percentile: 58.75\n"
     ]
    }
   ],
   "source": [
    "# 62. Generate an array of 50 random numbers between 1 and 100. Find the 25th and 75th percentiles of the dataset\n",
    "\n",
    "\n",
    "import numpy as np\n",
    "\n",
    "#Generate the 50 random numbers\n",
    "random_numbers = np.random.randint(1,101,50)\n",
    "\n",
    "#25th and 75th percentilte of the dataset\n",
    "\n",
    "percentile_25 = np.percentile(random_numbers, 25)\n",
    "percentile_75 = np.percentile(random_numbers, 75)\n",
    "\n",
    "print(\"25th percentile:\",percentile_25)\n",
    "print(\"75th percentile:\",percentile_75)"
   ]
  },
  {
   "cell_type": "code",
   "execution_count": 73,
   "metadata": {
    "colab": {
     "base_uri": "https://localhost:8080/"
    },
    "executionInfo": {
     "elapsed": 547,
     "status": "ok",
     "timestamp": 1722187335831,
     "user": {
      "displayName": "Razi Ahmed",
      "userId": "02478934906081398849"
     },
     "user_tz": -330
    },
    "id": "lsUX6w1OXR3e",
    "outputId": "7d6e8618-0208-4f7c-fdd0-55a7b73bbdc2"
   },
   "outputs": [
    {
     "data": {
      "text/plain": [
       "(array([24, 75, 37, 44, 14, 95, 29, 76, 83, 31, 74, 11, 61, 30, 57,  2, 81,\n",
       "        37, 83, 50, 54, 46, 60, 90, 24, 20, 89,  1,  4, 43, 14, 67, 93, 53,\n",
       "         1, 31, 89, 26, 34, 91, 83, 55, 17, 77, 67, 91, 96, 15, 94, 71]),\n",
       " array([78, 73, 79,  4,  4, 20,  7, 77, 81, 46, 40, 98, 58, 88, 97, 19, 46,\n",
       "        26, 78, 53, 84, 53,  3, 91, 98, 49, 24, 57, 42, 70, 82, 31, 59, 40,\n",
       "        34,  1, 96, 99, 17, 75, 44, 45, 91, 11, 36, 86, 72, 32, 46,  6]),\n",
       " 0.07780819636975261)"
      ]
     },
     "execution_count": 73,
     "metadata": {},
     "output_type": "execute_result"
    }
   ],
   "source": [
    "# 63. Create two arrays representing two sets of variables. Compute the correlation coefficient between these arrays using NumPy's `corrcoef` function\n",
    "\n",
    "import numpy as np\n",
    "\n",
    "# Create two arrays representing two sets of variables\n",
    "array1 = np.random.randint(1, 101, size=50)\n",
    "array2 = np.random.randint(1, 101, size=50)\n",
    "\n",
    "# Compute the correlation coefficient between these arrays\n",
    "correlation_matrix = np.corrcoef(array1, array2)\n",
    "correlation_coefficient = correlation_matrix[0, 1]\n",
    "\n",
    "array1, array2, correlation_coefficient\n"
   ]
  },
  {
   "cell_type": "code",
   "execution_count": 74,
   "metadata": {
    "colab": {
     "base_uri": "https://localhost:8080/"
    },
    "executionInfo": {
     "elapsed": 564,
     "status": "ok",
     "timestamp": 1722187343543,
     "user": {
      "displayName": "Razi Ahmed",
      "userId": "02478934906081398849"
     },
     "user_tz": -330
    },
    "id": "Uu3HGQT0XT8j",
    "outputId": "d09419c3-3796-4349-e54c-5b6b50403aa7"
   },
   "outputs": [
    {
     "name": "stdout",
     "output_type": "stream",
     "text": [
      "Matrix 1: [[22 93 98 17]\n",
      " [82 39 76 21]\n",
      " [52 89 96 54]]\n",
      "Matrix 2: [[ 61  13  75]\n",
      " [100  93  84]\n",
      " [ 35  36  98]\n",
      " [ 65  11  53]]\n",
      "RESULT: [[15177 12650 19967]\n",
      " [12927  7660 17987]\n",
      " [18942 13003 23646]]\n"
     ]
    }
   ],
   "source": [
    "# 64. Create two matrices and perform matrix multiplication using NumPy's `dot` function.\n",
    "\n",
    "import numpy as np\n",
    "\n",
    "#create two matrices\n",
    "\n",
    "matrix1 = np.random.randint(1,101,size = (3, 4))\n",
    "matrix2 = np.random.randint(1,101, size = (4,3))\n",
    "\n",
    "#matrix multiplication using \"dot\" function\n",
    "\n",
    "result = np.dot(matrix1, matrix2)\n",
    "\n",
    "print('Matrix 1:',matrix1)\n",
    "print(\"Matrix 2:\", matrix2)\n",
    "print(\"RESULT:\", result)\n"
   ]
  },
  {
   "cell_type": "code",
   "execution_count": 75,
   "metadata": {
    "colab": {
     "base_uri": "https://localhost:8080/"
    },
    "executionInfo": {
     "elapsed": 9,
     "status": "ok",
     "timestamp": 1722187348922,
     "user": {
      "displayName": "Razi Ahmed",
      "userId": "02478934906081398849"
     },
     "user_tz": -330
    },
    "id": "Sps-HRAgXVvs",
    "outputId": "64510d51-7b70-4695-be02-8f9f70c182a5"
   },
   "outputs": [
    {
     "name": "stdout",
     "output_type": "stream",
     "text": [
      "10th Percentile: 160.3\n",
      "50th Percentile: 497.0\n",
      "90th Percentile: 850.3\n",
      "First Quartile: 264.25\n",
      "Third Quartile: 680.5\n"
     ]
    }
   ],
   "source": [
    "# 65. Create an array of 50 integers between 10 and 1000. Calculate the 10th, 50th (median), and 90th percentiles along with the first and third quartiles.\n",
    "\n",
    "import numpy as np\n",
    "\n",
    "#create an array\n",
    "array = np.random.randint(10,1001,50)\n",
    "\n",
    "#calculate the percentile\n",
    "\n",
    "percentile_10 = np.percentile(array,10)\n",
    "percentile_50 = np.percentile(array,50)\n",
    "percentile_90 = np.percentile(array,90)\n",
    "\n",
    "#calculate the first and the third quartile\n",
    "percentile_25 = np.percentile(array,25)\n",
    "percentile_75 = np.percentile(array,75)\n",
    "\n",
    "print(\"10th Percentile:\",percentile_10)\n",
    "print(\"50th Percentile:\",percentile_50)\n",
    "print(\"90th Percentile:\",percentile_90)\n",
    "print(\"First Quartile:\",percentile_25)\n",
    "print(\"Third Quartile:\",percentile_75)\n",
    "\n",
    "\n",
    "\n"
   ]
  },
  {
   "cell_type": "code",
   "execution_count": 76,
   "metadata": {
    "colab": {
     "base_uri": "https://localhost:8080/"
    },
    "executionInfo": {
     "elapsed": 515,
     "status": "ok",
     "timestamp": 1722187355452,
     "user": {
      "displayName": "Razi Ahmed",
      "userId": "02478934906081398849"
     },
     "user_tz": -330
    },
    "id": "qj44H9i2XXQ0",
    "outputId": "98d6e791-7462-4843-d4d6-1726edeecc5f"
   },
   "outputs": [
    {
     "name": "stdout",
     "output_type": "stream",
     "text": [
      "Array: [ 10  20  55  67  49  80  60  40 100 120]\n",
      "Element Index: [3]\n"
     ]
    }
   ],
   "source": [
    "# 66. Create a NumPy array of integers and find the index of a specific element.\n",
    "\n",
    "#Create a NumPy array\n",
    "array = np.array([10,20,55,67,49,80,60,40,100,120])\n",
    "\n",
    "#Specific Element\n",
    "element_to_find = 67\n",
    "\n",
    "#Find the index of the specific element\n",
    "index = np.where(array == element_to_find)\n",
    "\n",
    "print(\"Array:\",array)\n",
    "print(\"Element Index:\",index[0])"
   ]
  },
  {
   "cell_type": "code",
   "execution_count": 77,
   "metadata": {
    "colab": {
     "base_uri": "https://localhost:8080/"
    },
    "executionInfo": {
     "elapsed": 551,
     "status": "ok",
     "timestamp": 1722187362142,
     "user": {
      "displayName": "Razi Ahmed",
      "userId": "02478934906081398849"
     },
     "user_tz": -330
    },
    "id": "f0jprrwnXZAe",
    "outputId": "aa14c050-f7c3-442d-8ee5-97d43df8b78c"
   },
   "outputs": [
    {
     "name": "stdout",
     "output_type": "stream",
     "text": [
      "Array: [23 91 55 84 61 99 59 43 23 10]\n",
      "Sort in Ascending order: [10 23 23 43 55 59 61 84 91 99]\n"
     ]
    }
   ],
   "source": [
    "# 67. Generate a random NumPy array and sort it in ascending order.\n",
    "\n",
    "#Create a random NumPy array\n",
    "array = np.random.randint(1,100,10)\n",
    "\n",
    "#Sort it in ascending order\n",
    "ascending = np.sort(array)\n",
    "\n",
    "print(\"Array:\", array)\n",
    "print(\"Sort in Ascending order:\" , ascending)"
   ]
  },
  {
   "cell_type": "code",
   "execution_count": 78,
   "metadata": {
    "colab": {
     "base_uri": "https://localhost:8080/"
    },
    "executionInfo": {
     "elapsed": 466,
     "status": "ok",
     "timestamp": 1722187368326,
     "user": {
      "displayName": "Razi Ahmed",
      "userId": "02478934906081398849"
     },
     "user_tz": -330
    },
    "id": "2EamKR1nXajk",
    "outputId": "178462c9-ad6b-4d22-c8bf-f64e866a71c4"
   },
   "outputs": [
    {
     "name": "stdout",
     "output_type": "stream",
     "text": [
      "Filter Elements: [25 42 30]\n"
     ]
    }
   ],
   "source": [
    "# 68. Filter elements >20  in the given NumPy array\n",
    "'''arr = np.array([12, 25, 6, 42, 8, 30])'''\n",
    "\n",
    "#Given array\n",
    "arr = np.array([12, 25, 6, 42, 8, 30])\n",
    "\n",
    "#Filter element greater than 20\n",
    "filter_elements = arr[arr>20]\n",
    "\n",
    "print(\"Filter Elements:\",filter_elements)"
   ]
  },
  {
   "cell_type": "code",
   "execution_count": 79,
   "metadata": {
    "colab": {
     "base_uri": "https://localhost:8080/"
    },
    "executionInfo": {
     "elapsed": 517,
     "status": "ok",
     "timestamp": 1722187375610,
     "user": {
      "displayName": "Razi Ahmed",
      "userId": "02478934906081398849"
     },
     "user_tz": -330
    },
    "id": "Ed1YPsK_XcJ-",
    "outputId": "6bc66b19-67df-46ea-e7bd-b183576a1570"
   },
   "outputs": [
    {
     "name": "stdout",
     "output_type": "stream",
     "text": [
      "Filter Elements: [12 15]\n"
     ]
    }
   ],
   "source": [
    "# 69. Filter elements which are divisible by 3 from a given NumPy array.\n",
    "'''arr = np.array([1, 5, 8, 12, 15])'''\n",
    "\n",
    "#Given array\n",
    "arr = np.array([1, 5, 8, 12, 15])\n",
    "\n",
    "#Filter elements divisible by 3\n",
    "filter_elements = arr[arr % 3 == 0]\n",
    "print(\"Filter Elements:\",filter_elements)"
   ]
  },
  {
   "cell_type": "code",
   "execution_count": 80,
   "metadata": {
    "colab": {
     "base_uri": "https://localhost:8080/"
    },
    "executionInfo": {
     "elapsed": 499,
     "status": "ok",
     "timestamp": 1722187382337,
     "user": {
      "displayName": "Razi Ahmed",
      "userId": "02478934906081398849"
     },
     "user_tz": -330
    },
    "id": "MK1LKsoLXd2E",
    "outputId": "d6f2e4ce-427e-46f8-b4ef-9f863de4d1a2"
   },
   "outputs": [
    {
     "name": "stdout",
     "output_type": "stream",
     "text": [
      "Filter Elements: [20 30 40]\n"
     ]
    }
   ],
   "source": [
    "# 70. Filter elements which are ≥ 20 and ≤ 40 from a given NumPy array.\n",
    "'''arr = np.array([10, 20, 30, 40, 50])'''\n",
    "\n",
    "#Given array\n",
    "arr = np.array([10, 20, 30, 40, 50])\n",
    "\n",
    "#filter elements which are ≥ 20 and ≤ 40\n",
    "filter_elements = arr[(arr >= 20)&(arr <= 40)]\n",
    "\n",
    "print(\"Filter Elements:\",filter_elements)"
   ]
  },
  {
   "cell_type": "code",
   "execution_count": 2,
   "metadata": {
    "colab": {
     "base_uri": "https://localhost:8080/"
    },
    "executionInfo": {
     "elapsed": 520,
     "status": "ok",
     "timestamp": 1722187387962,
     "user": {
      "displayName": "Razi Ahmed",
      "userId": "02478934906081398849"
     },
     "user_tz": -330
    },
    "id": "S4qPHDpUXfk5",
    "outputId": "edc64044-82ad-4ed5-abe9-281f5e17cc8b"
   },
   "outputs": [
    {
     "name": "stdout",
     "output_type": "stream",
     "text": [
      "Byte order: =\n"
     ]
    }
   ],
   "source": [
    "# 71. For the given NumPy array, check its byte order using the `dtype` attribute byteorder.\n",
    "arr = np.array([1, 2, 3])\n",
    "\n",
    "import numpy as np\n",
    "\n",
    "#Given array\n",
    "arr = np.array([1,2,3])\n",
    "\n",
    "# Check the byte order using the dtype attribute\n",
    "byte_order = arr.dtype.byteorder\n",
    "\n",
    "print(f\"Byte order: {byte_order}\")\n"
   ]
  },
  {
   "cell_type": "code",
   "execution_count": 82,
   "metadata": {
    "colab": {
     "base_uri": "https://localhost:8080/"
    },
    "executionInfo": {
     "elapsed": 578,
     "status": "ok",
     "timestamp": 1722187395936,
     "user": {
      "displayName": "Razi Ahmed",
      "userId": "02478934906081398849"
     },
     "user_tz": -330
    },
    "id": "nMJUl1XPXg84",
    "outputId": "4079d097-5010-4e95-a6ec-c529853d0a77"
   },
   "outputs": [
    {
     "name": "stdout",
     "output_type": "stream",
     "text": [
      "[16777216 33554432 50331648]\n"
     ]
    }
   ],
   "source": [
    "# 72. For the given NumPy array, perform byte swapping in place using `byteswap()`.\n",
    "'''arr = np.array([1, 2, 3], dtype=np.int32)'''\n",
    "import numpy as np\n",
    "\n",
    "# Given NumPy array\n",
    "arr = np.array([1, 2, 3], dtype=np.int32)\n",
    "\n",
    "# Perform byte swapping in place\n",
    "arr.byteswap(True)\n",
    "\n",
    "# Print the byte-swapped array\n",
    "print(arr)\n"
   ]
  },
  {
   "cell_type": "code",
   "execution_count": 83,
   "metadata": {
    "colab": {
     "base_uri": "https://localhost:8080/"
    },
    "executionInfo": {
     "elapsed": 469,
     "status": "ok",
     "timestamp": 1722187413496,
     "user": {
      "displayName": "Razi Ahmed",
      "userId": "02478934906081398849"
     },
     "user_tz": -330
    },
    "id": "0nnc_uZ4Xi4J",
    "outputId": "901625db-d744-4d9f-99c8-b548fe3feae7"
   },
   "outputs": [
    {
     "name": "stdout",
     "output_type": "stream",
     "text": [
      "Original array: [1 2 3]\n",
      "Byte-swapped array: [16777216 33554432 50331648]\n"
     ]
    }
   ],
   "source": [
    "#73. For the given NumPy array, swap its byte order without modifying the original array using `newbyteorder()`.\n",
    "'''arr = np.array([1, 2, 3], dtype=np.int32)'''\n",
    "\n",
    "import numpy as np\n",
    "\n",
    "# Given NumPy array\n",
    "arr = np.array([1, 2, 3], dtype=np.int32)\n",
    "\n",
    "# Swap the byte order without modifying the original array\n",
    "swapped_arr = arr.newbyteorder()\n",
    "\n",
    "# Print the original and byte-swapped arrays\n",
    "print(\"Original array:\", arr)\n",
    "print(\"Byte-swapped array:\", swapped_arr)\n"
   ]
  },
  {
   "cell_type": "code",
   "execution_count": 84,
   "metadata": {
    "colab": {
     "base_uri": "https://localhost:8080/"
    },
    "executionInfo": {
     "elapsed": 784,
     "status": "ok",
     "timestamp": 1722187420500,
     "user": {
      "displayName": "Razi Ahmed",
      "userId": "02478934906081398849"
     },
     "user_tz": -330
    },
    "id": "_jZJg7SaXnMP",
    "outputId": "58ebd4cb-acf7-492a-943d-ce7fc3518fd2"
   },
   "outputs": [
    {
     "name": "stdout",
     "output_type": "stream",
     "text": [
      "Original array: [1 2 3]\n",
      "Conditionally byte-swapped array: [16777216 33554432 50331648]\n"
     ]
    }
   ],
   "source": [
    "# 74. For the given NumPy array and swap its byte order conditionally based on system endianness using` newbyteorder()\n",
    "'''arr = np.array([1, 2, 3], dtype=np.int32)'''\n",
    "\n",
    "import numpy as np\n",
    "\n",
    "# Given NumPy array\n",
    "arr = np.array([1, 2, 3], dtype=np.int32)\n",
    "\n",
    "# Check the system's endianness\n",
    "system_endianness = np.dtype(np.int32).byteorder\n",
    "\n",
    "# Swap the byte order conditionally\n",
    "if system_endianness == '=':  # Native byte order (little-endian on most systems)\n",
    "    # Swap to big-endian if the system is little-endian\n",
    "    swapped_arr = arr.newbyteorder('>')\n",
    "else:\n",
    "    # Swap to little-endian if the system is big-endian\n",
    "    swapped_arr = arr.newbyteorder('<')\n",
    "\n",
    "# Print the original and byte-swapped arrays\n",
    "print(\"Original array:\", arr)\n",
    "print(\"Conditionally byte-swapped array:\", swapped_arr)\n",
    "\n"
   ]
  },
  {
   "cell_type": "code",
   "execution_count": 85,
   "metadata": {
    "colab": {
     "base_uri": "https://localhost:8080/"
    },
    "executionInfo": {
     "elapsed": 524,
     "status": "ok",
     "timestamp": 1722187426663,
     "user": {
      "displayName": "Razi Ahmed",
      "userId": "02478934906081398849"
     },
     "user_tz": -330
    },
    "id": "KOA2p1AGXo1b",
    "outputId": "e21c23ad-001c-4dc2-a18a-314adac05e08"
   },
   "outputs": [
    {
     "name": "stdout",
     "output_type": "stream",
     "text": [
      "Array byte order: =\n",
      "System byte order: =\n",
      "Is byte swapping necessary? False\n"
     ]
    }
   ],
   "source": [
    "# 75. For the given NumPy array, check if byte swapping is necessary for the current system using `dtype` attribute `byteorder`.\n",
    "'''arr = np.array([1, 2, 3], dtype=np.int32)'''\n",
    "\n",
    "import numpy as np\n",
    "\n",
    "# Given NumPy array\n",
    "arr = np.array([1, 2, 3], dtype=np.int32)\n",
    "\n",
    "# Check the system's native byte order\n",
    "system_byteorder = '='\n",
    "\n",
    "# Check the byte order of the array\n",
    "array_byteorder = arr.dtype.byteorder\n",
    "\n",
    "# Determine if byte swapping is necessary\n",
    "if array_byteorder in ('=', system_byteorder):\n",
    "    byte_swapping_necessary = False\n",
    "else:\n",
    "    byte_swapping_necessary = True\n",
    "\n",
    "# Print the result\n",
    "print(\"Array byte order:\", array_byteorder)\n",
    "print(\"System byte order:\", system_byteorder)\n",
    "print(\"Is byte swapping necessary?\", byte_swapping_necessary)\n",
    "\n"
   ]
  },
  {
   "cell_type": "code",
   "execution_count": 86,
   "metadata": {
    "colab": {
     "base_uri": "https://localhost:8080/"
    },
    "executionInfo": {
     "elapsed": 517,
     "status": "ok",
     "timestamp": 1722187433715,
     "user": {
      "displayName": "Razi Ahmed",
      "userId": "02478934906081398849"
     },
     "user_tz": -330
    },
    "id": "tcccqr7PXqWg",
    "outputId": "d3a91f73-ab35-4296-d9c7-659158588bb5"
   },
   "outputs": [
    {
     "name": "stdout",
     "output_type": "stream",
     "text": [
      "Original array (arr1): [ 1  2  3  4  5  6  7  8  9 10]\n",
      "Modified copy (copy_arr): [100   2   3   4   5   6   7   8   9  10]\n"
     ]
    }
   ],
   "source": [
    "# 76. Create a NumPy array `arr1` with values from 1 to 10. Create a copy of `arr1` named `copy_arr` and modify an element in `copy_arr`. Check if modifying `copy_arr` affects `arr1`.\n",
    "\n",
    "import numpy as np\n",
    "\n",
    "# Create a NumPy array with values from 1 to 10\n",
    "arr1 = np.array(range(1, 11))\n",
    "\n",
    "# Create a copy of arr1\n",
    "copy_arr = arr1.copy()\n",
    "\n",
    "# Modify an element in copy_arr\n",
    "copy_arr[0] = 100\n",
    "\n",
    "# Print both arrays to check if modifying copy_arr affects arr1\n",
    "print(\"Original array (arr1):\", arr1)\n",
    "print(\"Modified copy (copy_arr):\", copy_arr)\n"
   ]
  },
  {
   "cell_type": "code",
   "execution_count": 87,
   "metadata": {
    "colab": {
     "base_uri": "https://localhost:8080/"
    },
    "executionInfo": {
     "elapsed": 512,
     "status": "ok",
     "timestamp": 1722187446539,
     "user": {
      "displayName": "Razi Ahmed",
      "userId": "02478934906081398849"
     },
     "user_tz": -330
    },
    "id": "XJ4PhbeOXsHo",
    "outputId": "1e0a31e9-63be-4c13-bc8c-1f35c1f796d5"
   },
   "outputs": [
    {
     "name": "stdout",
     "output_type": "stream",
     "text": [
      "Original matrix:\n",
      "[[67 39  7]\n",
      " [38 33 83]\n",
      " [66 80 66]]\n",
      "View slice before modification:\n",
      "[[67 39]\n",
      " [38 33]]\n",
      "Modified view slice:\n",
      "[[999  39]\n",
      " [ 38  33]]\n",
      "Original matrix after modifying the view slice:\n",
      "[[999  39   7]\n",
      " [ 38  33  83]\n",
      " [ 66  80  66]]\n"
     ]
    }
   ],
   "source": [
    "# 77. Create a 2D NumPy array `matrix` of shape (3, 3) with random integers. Extract a slice `view_slice` from the matrix. Modify an element in `view_slice` and observe if it changes the original `matrix`.\n",
    "\n",
    "import numpy as np\n",
    "\n",
    "# Create a 2D NumPy array of shape (3, 3) with random integers\n",
    "matrix = np.random.randint(1, 101, size=(3, 3))\n",
    "\n",
    "# Extract a slice from the matrix\n",
    "view_slice = matrix[0:2, 0:2]  # Extracting the top-left 2x2 submatrix\n",
    "\n",
    "# Print the original matrix and the view slice\n",
    "print(\"Original matrix:\")\n",
    "print(matrix)\n",
    "print(\"View slice before modification:\")\n",
    "print(view_slice)\n",
    "\n",
    "# Modify an element in the view slice\n",
    "view_slice[0, 0] = 999\n",
    "\n",
    "# Print the original matrix and the view slice after modification\n",
    "print(\"Modified view slice:\")\n",
    "print(view_slice)\n",
    "print(\"Original matrix after modifying the view slice:\")\n",
    "print(matrix)\n"
   ]
  },
  {
   "cell_type": "code",
   "execution_count": 88,
   "metadata": {
    "colab": {
     "base_uri": "https://localhost:8080/"
    },
    "executionInfo": {
     "elapsed": 491,
     "status": "ok",
     "timestamp": 1722187454752,
     "user": {
      "displayName": "Razi Ahmed",
      "userId": "02478934906081398849"
     },
     "user_tz": -330
    },
    "id": "3zpiOCc8XvPx",
    "outputId": "5d067244-a6f9-4ca9-d7d6-0b1b20fe0eb5"
   },
   "outputs": [
    {
     "name": "stdout",
     "output_type": "stream",
     "text": [
      "Original array (array_a):\n",
      "[[ 1  2  3]\n",
      " [ 4  5  6]\n",
      " [ 7  8  9]\n",
      " [10 11 12]]\n",
      "View slice before modification (view_b):\n",
      "[[4 5 6]\n",
      " [7 8 9]]\n",
      "View slice after modification (view_b):\n",
      "[[ 9 10 11]\n",
      " [12 13 14]]\n",
      "Original array after modifying the view slice (array_a):\n",
      "[[ 1  2  3]\n",
      " [ 9 10 11]\n",
      " [12 13 14]\n",
      " [10 11 12]]\n"
     ]
    }
   ],
   "source": [
    "# 78. Create a NumPy array `array_a` of shape (4, 3) with sequential integers from 1 to 12. Extract a slice `view_b` from `array_a` and broadcast the addition of 5 to view_b. Check if it alters the original `array_a`.\n",
    "\n",
    "import numpy as np\n",
    "\n",
    "# Create a NumPy array of shape (4, 3) with sequential integers from 1 to 12\n",
    "array_a = np.arange(1, 13).reshape(4, 3)\n",
    "\n",
    "# Extract a slice from the array\n",
    "view_b = array_a[1:3, :]  # Extracting the middle 2 rows\n",
    "\n",
    "# Print the original array and the view slice before modification\n",
    "print(\"Original array (array_a):\")\n",
    "print(array_a)\n",
    "print(\"View slice before modification (view_b):\")\n",
    "print(view_b)\n",
    "\n",
    "# Broadcast the addition of 5 to the view slice\n",
    "view_b += 5\n",
    "\n",
    "# Print the view slice and the original array after modification\n",
    "print(\"View slice after modification (view_b):\")\n",
    "print(view_b)\n",
    "print(\"Original array after modifying the view slice (array_a):\")\n",
    "print(array_a)\n"
   ]
  },
  {
   "cell_type": "code",
   "execution_count": 89,
   "metadata": {
    "colab": {
     "base_uri": "https://localhost:8080/"
    },
    "executionInfo": {
     "elapsed": 481,
     "status": "ok",
     "timestamp": 1722187463258,
     "user": {
      "displayName": "Razi Ahmed",
      "userId": "02478934906081398849"
     },
     "user_tz": -330
    },
    "id": "vRWNTtyBXxPa",
    "outputId": "2af77ad4-6781-4228-8465-81dc3c96692f"
   },
   "outputs": [
    {
     "name": "stdout",
     "output_type": "stream",
     "text": [
      "Original array (orig_array):\n",
      "[[1 2 3 4]\n",
      " [5 6 7 8]]\n",
      "Reshaped view before modification (reshaped_view):\n",
      "[[1 2]\n",
      " [3 4]\n",
      " [5 6]\n",
      " [7 8]]\n",
      "Reshaped view after modification (reshaped_view):\n",
      "[[999   2]\n",
      " [  3   4]\n",
      " [  5   6]\n",
      " [  7   8]]\n",
      "Original array after modifying the reshaped view (orig_array):\n",
      "[[999   2   3   4]\n",
      " [  5   6   7   8]]\n"
     ]
    }
   ],
   "source": [
    "#79.Create a NumPy array `orig_array` of shape (2, 4) with values from 1 to 8. Create a reshaped view `reshaped_view` of shape (4, 2) from orig_array. Modify an element in `reshaped_view` and check if it reflects changes in the original `orig_array`.\n",
    "\n",
    "import numpy as np\n",
    "\n",
    "# Create a NumPy array of shape (2, 4) with values from 1 to 8\n",
    "\n",
    "orig_array = np.arange(1, 9).reshape(2, 4)\n",
    "# Create a reshaped view of shape (4, 2) from orig_array\n",
    "reshaped_view = orig_array.reshape(4, 2)\n",
    "\n",
    "# Print the original array and the reshaped view before modification\n",
    "print(\"Original array (orig_array):\")\n",
    "print(orig_array)\n",
    "print(\"Reshaped view before modification (reshaped_view):\")\n",
    "print(reshaped_view)\n",
    "\n",
    "# Modify an element in the reshaped view\n",
    "reshaped_view[0, 0] = 999\n",
    "\n",
    "# Print the reshaped view and the original array after modification\n",
    "print(\"Reshaped view after modification (reshaped_view):\")\n",
    "print(reshaped_view)\n",
    "print(\"Original array after modifying the reshaped view (orig_array):\")\n",
    "print(orig_array)\n",
    "\n",
    "\n"
   ]
  },
  {
   "cell_type": "code",
   "execution_count": 90,
   "metadata": {
    "colab": {
     "base_uri": "https://localhost:8080/"
    },
    "executionInfo": {
     "elapsed": 659,
     "status": "ok",
     "timestamp": 1722187474162,
     "user": {
      "displayName": "Razi Ahmed",
      "userId": "02478934906081398849"
     },
     "user_tz": -330
    },
    "id": "Ql0VNdr1XzUM",
    "outputId": "b6ac4b10-1b0f-4f89-8046-6786d46e1d3e"
   },
   "outputs": [
    {
     "name": "stdout",
     "output_type": "stream",
     "text": [
      "Original array (data):\n",
      "[[ 5  9  1 10]\n",
      " [ 5  5  3  7]\n",
      " [ 4  2  8  4]]\n",
      "Copied array before modification (data_copy):\n",
      "[ 9 10  7  8]\n",
      "Copied array after modification (data_copy):\n",
      "[999  10   7   8]\n",
      "Original array after modifying the copied array (data):\n",
      "[[ 5  9  1 10]\n",
      " [ 5  5  3  7]\n",
      " [ 4  2  8  4]]\n"
     ]
    }
   ],
   "source": [
    "# 80. Create a NumPy array `data` of shape (3, 4) with random integers. Extract a copy `data_copy` of elements greater than 5. Modify an element in `data_copy` and verify if it affects the original `data`.\n",
    "\n",
    "import numpy as np\n",
    "\n",
    "# Create a NumPy array of shape (3, 4) with random integers between 1 and 10\n",
    "data = np.random.randint(1, 11, size=(3, 4))\n",
    "\n",
    "# Extract a copy of elements greater than 5\n",
    "data_copy = data[data > 5].copy()\n",
    "\n",
    "# Print the original array and the copied array before modification\n",
    "print(\"Original array (data):\")\n",
    "print(data)\n",
    "print(\"Copied array before modification (data_copy):\")\n",
    "print(data_copy)\n",
    "\n",
    "# Modify an element in the copied array\n",
    "if data_copy.size > 0:\n",
    "    data_copy[0] = 999\n",
    "\n",
    "# Print the copied array and the original array after modification\n",
    "print(\"Copied array after modification (data_copy):\")\n",
    "print(data_copy)\n",
    "print(\"Original array after modifying the copied array (data):\")\n",
    "print(data)\n"
   ]
  },
  {
   "cell_type": "code",
   "execution_count": 91,
   "metadata": {
    "colab": {
     "base_uri": "https://localhost:8080/"
    },
    "executionInfo": {
     "elapsed": 534,
     "status": "ok",
     "timestamp": 1722187481970,
     "user": {
      "displayName": "Razi Ahmed",
      "userId": "02478934906081398849"
     },
     "user_tz": -330
    },
    "id": "ZE1THQoiX14j",
    "outputId": "86891e1b-5f37-4a52-e8e0-1c03f775e89b"
   },
   "outputs": [
    {
     "name": "stdout",
     "output_type": "stream",
     "text": [
      "Matrix A:\n",
      "[[8 3 8]\n",
      " [5 1 4]\n",
      " [3 4 7]]\n",
      "Matrix B:\n",
      "[[ 7  9 10]\n",
      " [ 4  7  8]\n",
      " [10  8  7]]\n",
      "A + B:\n",
      "[[15 12 18]\n",
      " [ 9  8 12]\n",
      " [13 12 14]]\n",
      "A - B:\n",
      "[[ 1 -6 -2]\n",
      " [ 1 -6 -4]\n",
      " [-7 -4  0]]\n"
     ]
    }
   ],
   "source": [
    "# 81. Create two matrices A and B of identical shape containing integers and perform addition and subtraction operations between them.\n",
    "\n",
    "import numpy as np\n",
    "\n",
    "# Create two matrices A and B of shape (3, 3) with random integers between 1 and 10\n",
    "A = np.random.randint(1, 11, size=(3, 3))\n",
    "B = np.random.randint(1, 11, size=(3, 3))\n",
    "\n",
    "# Perform addition and subtraction\n",
    "C_add = A + B\n",
    "C_sub = A - B\n",
    "\n",
    "# Print the matrices and the results\n",
    "print(\"Matrix A:\")\n",
    "print(A)\n",
    "print(\"Matrix B:\")\n",
    "print(B)\n",
    "print(\"A + B:\")\n",
    "print(C_add)\n",
    "print(\"A - B:\")\n",
    "print(C_sub)\n"
   ]
  },
  {
   "cell_type": "code",
   "execution_count": 92,
   "metadata": {
    "colab": {
     "base_uri": "https://localhost:8080/"
    },
    "executionInfo": {
     "elapsed": 702,
     "status": "ok",
     "timestamp": 1722187489609,
     "user": {
      "displayName": "Razi Ahmed",
      "userId": "02478934906081398849"
     },
     "user_tz": -330
    },
    "id": "yS6PE7UtX32A",
    "outputId": "22f7bde7-1278-496e-9bad-3d060162507d"
   },
   "outputs": [
    {
     "name": "stdout",
     "output_type": "stream",
     "text": [
      "Matrix C:\n",
      "[[3 3]\n",
      " [6 3]\n",
      " [1 6]]\n",
      "Matrix D:\n",
      "[[ 1  7  2  5]\n",
      " [ 9  7 10  2]]\n",
      "C * D (Matrix multiplication result):\n",
      "[[30 42 36 21]\n",
      " [33 63 42 36]\n",
      " [55 49 62 17]]\n"
     ]
    }
   ],
   "source": [
    "# 82. Generate two matrices `C` (3x2) and `D` (2x4) and perform matrix multiplication.\n",
    "\n",
    "import numpy as np\n",
    "\n",
    "# Create matrix C of shape (3, 2) with random integers between 1 and 10\n",
    "C = np.random.randint(1, 11, size=(3, 2))\n",
    "\n",
    "# Create matrix D of shape (2, 4) with random integers between 1 and 10\n",
    "D = np.random.randint(1, 11, size=(2, 4))\n",
    "\n",
    "# Perform matrix multiplication\n",
    "result = np.dot(C, D)\n",
    "\n",
    "# Print the matrices and the result\n",
    "print(\"Matrix C:\")\n",
    "print(C)\n",
    "print(\"Matrix D:\")\n",
    "print(D)\n",
    "print(\"C * D (Matrix multiplication result):\")\n",
    "print(result)\n",
    "\n"
   ]
  },
  {
   "cell_type": "code",
   "execution_count": 93,
   "metadata": {
    "colab": {
     "base_uri": "https://localhost:8080/"
    },
    "executionInfo": {
     "elapsed": 495,
     "status": "ok",
     "timestamp": 1722187496720,
     "user": {
      "displayName": "Razi Ahmed",
      "userId": "02478934906081398849"
     },
     "user_tz": -330
    },
    "id": "ZByKf9-JX5uf",
    "outputId": "43e94554-9af0-474b-9eff-7958f2963666"
   },
   "outputs": [
    {
     "name": "stdout",
     "output_type": "stream",
     "text": [
      "Matrix E:\n",
      "[[10  9  5]\n",
      " [ 9  5  6]\n",
      " [ 5  2  3]]\n",
      "Transpose of E:\n",
      "[[10  9  5]\n",
      " [ 9  5  2]\n",
      " [ 5  6  3]]\n"
     ]
    }
   ],
   "source": [
    "# 83. Create a matrix `E` and find its transpose.\n",
    "\n",
    "import numpy as np\n",
    "\n",
    "# Create a matrix E of shape (3, 3) with random integers between 1 and 10\n",
    "E = np.random.randint(1, 11, size=(3, 3))\n",
    "\n",
    "# Find the transpose of E\n",
    "E_transpose = E.T\n",
    "\n",
    "# Print the matrix and its transpose\n",
    "print(\"Matrix E:\")\n",
    "print(E)\n",
    "print(\"Transpose of E:\")\n",
    "print(E_transpose)\n"
   ]
  },
  {
   "cell_type": "code",
   "execution_count": 94,
   "metadata": {
    "colab": {
     "base_uri": "https://localhost:8080/"
    },
    "executionInfo": {
     "elapsed": 487,
     "status": "ok",
     "timestamp": 1722187502596,
     "user": {
      "displayName": "Razi Ahmed",
      "userId": "02478934906081398849"
     },
     "user_tz": -330
    },
    "id": "Y4T86jCQX7fT",
    "outputId": "e2e9db17-9714-4cef-97f8-46c2cf74763e"
   },
   "outputs": [
    {
     "name": "stdout",
     "output_type": "stream",
     "text": [
      "Matrix F:\n",
      "[[ 8  3  4]\n",
      " [ 7  5 10]\n",
      " [ 8 10  6]]\n",
      "Determinant of F:\n",
      "-325.9999999999997\n"
     ]
    }
   ],
   "source": [
    "# 84. Generate a square matrix `F` and compute its determinant.\n",
    "\n",
    "import numpy as np\n",
    "\n",
    "# Create a square matrix F of shape (3, 3) with random integers between 1 and 10\n",
    "F = np.random.randint(1, 11, size=(3, 3))\n",
    "\n",
    "# Compute the determinant of F\n",
    "determinant = np.linalg.det(F)\n",
    "\n",
    "# Print the matrix and its determinant\n",
    "print(\"Matrix F:\")\n",
    "print(F)\n",
    "print(\"Determinant of F:\")\n",
    "print(determinant)\n"
   ]
  },
  {
   "cell_type": "code",
   "execution_count": 95,
   "metadata": {
    "colab": {
     "base_uri": "https://localhost:8080/"
    },
    "executionInfo": {
     "elapsed": 533,
     "status": "ok",
     "timestamp": 1722187512286,
     "user": {
      "displayName": "Razi Ahmed",
      "userId": "02478934906081398849"
     },
     "user_tz": -330
    },
    "id": "cTAZM-7CX88C",
    "outputId": "0f7eda74-21ad-486d-a344-efeebe8bcaff"
   },
   "outputs": [
    {
     "name": "stdout",
     "output_type": "stream",
     "text": [
      "Matrix G:\n",
      "[[ 7  5 10]\n",
      " [ 4  9  8]\n",
      " [ 7  5  9]]\n",
      "Inverse of G:\n",
      "[[-0.95348837 -0.11627907  1.1627907 ]\n",
      " [-0.46511628  0.1627907   0.37209302]\n",
      " [ 1.         -0.         -1.        ]]\n"
     ]
    }
   ],
   "source": [
    "# 85. Create a square matrix `G` and find its inverse.\n",
    "\n",
    "import numpy as np\n",
    "\n",
    "# Create a square matrix G of shape (3, 3) with random integers between 1 and 10\n",
    "G = np.random.randint(1, 11, size=(3, 3))\n",
    "\n",
    "# Compute the inverse of G\n",
    "try:\n",
    "    G_inverse = np.linalg.inv(G)\n",
    "    print(\"Matrix G:\")\n",
    "    print(G)\n",
    "    print(\"Inverse of G:\")\n",
    "    print(G_inverse)\n",
    "except np.linalg.LinAlgError:\n",
    "    print(\"Matrix G is singular and does not have an inverse.\")\n"
   ]
  },
  {
   "cell_type": "code",
   "execution_count": null,
   "metadata": {},
   "outputs": [],
   "source": []
  }
 ],
 "metadata": {
  "colab": {
   "authorship_tag": "ABX9TyMToAZISfi1pPjltyzsbjbV",
   "provenance": []
  },
  "kernelspec": {
   "display_name": "Python 3",
   "language": "python",
   "name": "python3"
  },
  "language_info": {
   "codemirror_mode": {
    "name": "ipython",
    "version": 3
   },
   "file_extension": ".py",
   "mimetype": "text/x-python",
   "name": "python",
   "nbconvert_exporter": "python",
   "pygments_lexer": "ipython3",
   "version": "3.7.3"
  }
 },
 "nbformat": 4,
 "nbformat_minor": 1
}
