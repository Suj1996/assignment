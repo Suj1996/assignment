{
 "cells": [
  {
   "cell_type": "code",
   "execution_count": 1,
   "metadata": {},
   "outputs": [],
   "source": [
    "# Q1 write a code to reverse a string."
   ]
  },
  {
   "cell_type": "code",
   "execution_count": 2,
   "metadata": {},
   "outputs": [
    {
     "name": "stdout",
     "output_type": "stream",
     "text": [
      "sllikswp\n"
     ]
    }
   ],
   "source": [
    "name=\"pwskills\"[::-1]\n",
    "print(name)"
   ]
  },
  {
   "cell_type": "code",
   "execution_count": 1,
   "metadata": {},
   "outputs": [
    {
     "name": "stdout",
     "output_type": "stream",
     "text": [
      "Number of vowels in the string: 3\n"
     ]
    }
   ],
   "source": [
    "# Q2 Write a code to count the number of vowels in a string.\n",
    "def count_vowels(input_str):\n",
    "    vowels = \"aeiouAEIOU\"\n",
    "    vowel_count = 0\n",
    "    for char in input_str:\n",
    "        if char in vowels:\n",
    "            vowel_count += 1\n",
    "    return vowel_count\n",
    "\n",
    "# Example usage:\n",
    "input_string = \"Hello, World!\"\n",
    "num_vowels = count_vowels(input_string)\n",
    "print(\"Number of vowels in the string:\", num_vowels)"
   ]
  },
  {
   "cell_type": "code",
   "execution_count": 2,
   "metadata": {},
   "outputs": [
    {
     "name": "stdout",
     "output_type": "stream",
     "text": [
      "The string is a palindrome.\n"
     ]
    }
   ],
   "source": [
    "# Q3 write a code to check if a given string is palindrome or not\n",
    "def is_palindrome(input_str):\n",
    "    # Remove spaces and convert to lowercase for case-insensitive comparison\n",
    "    input_str = input_str.replace(\" \", \"\").lower()\n",
    "\n",
    "    # Check if the string is equal to its reverse\n",
    "    return input_str == input_str[::-1]\n",
    "\n",
    "# Example usage:\n",
    "input_string = \"A man a plan a canal Panama\"\n",
    "if is_palindrome(input_string):\n",
    "    print(\"The string is a palindrome.\")\n",
    "else:\n",
    "    print(\"The string is not a palindrome.\")"
   ]
  },
  {
   "cell_type": "code",
   "execution_count": 12,
   "metadata": {},
   "outputs": [],
   "source": [
    "#Q4 write a code to check if two given strings are anagrams of each other."
   ]
  },
  {
   "cell_type": "code",
   "execution_count": 4,
   "metadata": {},
   "outputs": [
    {
     "name": "stdout",
     "output_type": "stream",
     "text": [
      "Both the strings are anagram\n"
     ]
    }
   ],
   "source": [
    "str1 = \"Grab\";  \n",
    "str2 = \"Brag\";   \n",
    "#Checking for the length of strings  \n",
    "if(len(str1)!= len(str2)):  \n",
    "    print (\"Both the strings are not anagram\");  \n",
    "else:  \n",
    "    #Converting the strings to lower case  \n",
    "    str1 = str1.lower();  \n",
    "    str2 = str2.lower();  \n",
    "    #Sorting the strings  \n",
    "    str1 = ''. join(sorted(str1));  \n",
    "    str2 = ''. join(sorted(str2));  \n",
    "      \n",
    "    if (str1 == str2):  \n",
    "        print (\"Both the strings are anagram\");   \n",
    "    else:  \n",
    "        print (\"Both the strings are not anagram\");  "
   ]
  },
  {
   "cell_type": "code",
   "execution_count": 3,
   "metadata": {},
   "outputs": [
    {
     "name": "stdout",
     "output_type": "stream",
     "text": [
      "Occurrences of 'hello' in 'hello, hello, world, hello': [0, 7, 21]\n"
     ]
    }
   ],
   "source": [
    "# Q5 Write a code to find all occurances of a given substring within another string.\n",
    "\n",
    "def find_substring_occurrences(main_string, substring):\n",
    "    occurrences = []\n",
    "    index = main_string.find(substring)\n",
    "    while index != -1:\n",
    "        occurrences.append(index)\n",
    "        index = main_string.find(substring, index + 1)\n",
    "    return occurrences\n",
    "\n",
    "# Example usage:\n",
    "main_string = \"hello, hello, world, hello\"\n",
    "substring = \"hello\"\n",
    "occurrences = find_substring_occurrences(main_string, substring)\n",
    "print(\"Occurrences of '{}' in '{}': {}\".format(substring, main_string, occurrences))"
   ]
  },
  {
   "cell_type": "code",
   "execution_count": 4,
   "metadata": {},
   "outputs": [
    {
     "name": "stdout",
     "output_type": "stream",
     "text": [
      "Original string: aaabbbbcccd\n",
      "Compressed string: a3b4c3d1\n"
     ]
    }
   ],
   "source": [
    "# Q6 write a code to perform basic string compression using the counts of repeatd characters.\n",
    "def string_compression(input_str):\n",
    "    compressed_str = \"\"\n",
    "    count = 1\n",
    "\n",
    "    # Iterate through the input string\n",
    "    for i in range(1, len(input_str)):\n",
    "        # If current character is same as previous one, increase count\n",
    "        if input_str[i] == input_str[i - 1]:\n",
    "            count += 1\n",
    "        else:\n",
    "            # If different, append previous character and its count to compressed string\n",
    "            compressed_str += input_str[i - 1] + str(count)\n",
    "            count = 1\n",
    "\n",
    "    # Append the last character and its count\n",
    "    compressed_str += input_str[-1] + str(count)\n",
    "\n",
    "    # Check if compressed string is shorter than original string\n",
    "    if len(compressed_str) < len(input_str):\n",
    "        return compressed_str\n",
    "    else:\n",
    "        return input_str\n",
    "\n",
    "# Example usage:\n",
    "input_string = \"aaabbbbcccd\"\n",
    "compressed_string = string_compression(input_string)\n",
    "print(\"Original string:\", input_string)\n",
    "print(\"Compressed string:\", compressed_string)\n"
   ]
  },
  {
   "cell_type": "code",
   "execution_count": 5,
   "metadata": {},
   "outputs": [
    {
     "name": "stdout",
     "output_type": "stream",
     "text": [
      "The string has all unique characters.\n"
     ]
    }
   ],
   "source": [
    "#Q7 Write a code to determine if a string has all unique characters.\n",
    "def has_unique_characters(input_str):\n",
    "    # Create a set to store encountered characters\n",
    "    seen = set()\n",
    "\n",
    "    # Iterate through the string\n",
    "    for char in input_str:\n",
    "        # If character is already in the set, return False\n",
    "        if char in seen:\n",
    "            return False\n",
    "        # Otherwise, add character to set\n",
    "        else:\n",
    "            seen.add(char)\n",
    "\n",
    "    # If loop completes without returning False, all characters are unique\n",
    "    return True\n",
    "\n",
    "# Example usage:\n",
    "input_string = \"abcdefg\"\n",
    "if has_unique_characters(input_string):\n",
    "    print(\"The string has all unique characters.\")\n",
    "else:\n",
    "    print(\"The string does not have all unique characters.\")\n"
   ]
  },
  {
   "cell_type": "code",
   "execution_count": null,
   "metadata": {},
   "outputs": [],
   "source": [
    "#Q8 write a code to convert a given string to uppercase or lowercase.\n",
    "def convert_case(input_str, to_uppercase=True):\n",
    "    if to_uppercase:\n",
    "        return input_str.upper()\n",
    "    else:\n",
    "        return input_str.lower()\n",
    "\n",
    "# Example usage:\n",
    "input_string = \"Hello, World!\"\n",
    "choice = input(\"Enter 'U' to convert to uppercase or 'L' to convert to lowercase: \").upper()\n",
    "\n",
    "if choice == 'U':\n",
    "    result = convert_case(input_string, to_uppercase=True)\n",
    "    print(\"String in uppercase:\", result)\n",
    "elif choice == 'L':\n",
    "    result = convert_case(input_string, to_uppercase=False)\n",
    "    print(\"String in lowercase:\", result)\n",
    "else:\n",
    "    print(\"Invalid choice! Please enter 'U' or 'L'.\")\n"
   ]
  },
  {
   "cell_type": "code",
   "execution_count": 1,
   "metadata": {},
   "outputs": [
    {
     "data": {
      "text/plain": [
       "7"
      ]
     },
     "execution_count": 1,
     "metadata": {},
     "output_type": "execute_result"
    }
   ],
   "source": [
    "#Q9 write a code to count the number of words in a string.\n",
    "a = \"pwskill\"\n",
    "len(a)"
   ]
  },
  {
   "cell_type": "code",
   "execution_count": 3,
   "metadata": {},
   "outputs": [
    {
     "name": "stdout",
     "output_type": "stream",
     "text": [
      "Concatenated string: Hello, World!\n"
     ]
    }
   ],
   "source": [
    "#Q10 write a code to concatenate two string withput using the +operator.\n",
    "def concatenate_strings(str1, str2):\n",
    "    concatenated_str = \"%s%s\" % (str1, str2)\n",
    "    return concatenated_str\n",
    "\n",
    "# Example usage:\n",
    "string1 = \"Hello, \"\n",
    "string2 = \"World!\"\n",
    "result = concatenate_strings(string1, string2)\n",
    "print(\"Concatenated string:\", result)"
   ]
  },
  {
   "cell_type": "code",
   "execution_count": 1,
   "metadata": {},
   "outputs": [
    {
     "name": "stdout",
     "output_type": "stream",
     "text": [
      "Original list: [1, 3, 4, 5]\n",
      "List after removing all occurrences of 2: [1, 3, 4, 5]\n"
     ]
    }
   ],
   "source": [
    "#Q11 write a code to remove all occurances of a specific element from a list.\n",
    "def remove_element(lst, element):\n",
    "    while element in lst:\n",
    "        lst.remove(element)\n",
    "    return lst\n",
    "\n",
    "# Example usage:\n",
    "original_list = [1, 2, 2, 3, 4, 2, 5, 2]\n",
    "element_to_remove = 2\n",
    "result_list = remove_element(original_list, element_to_remove)\n",
    "print(\"Original list:\", original_list)\n",
    "print(\"List after removing all occurrences of {}: {}\".format(element_to_remove, result_list))\n"
   ]
  },
  {
   "cell_type": "code",
   "execution_count": 2,
   "metadata": {},
   "outputs": [
    {
     "name": "stdout",
     "output_type": "stream",
     "text": [
      "Second largest number in the list: 8\n"
     ]
    }
   ],
   "source": [
    "#Q12 implement a code to find the second largest number in a given list of integers.\n",
    "\n",
    "def find_second_largest(lst):\n",
    "    # Check if the list has at least two elements\n",
    "    if len(lst) < 2:\n",
    "        return \"List must contain at least two elements\"\n",
    "\n",
    "    # Find the largest number in the list\n",
    "    largest = max(lst)\n",
    "\n",
    "    # Remove the largest number from the list\n",
    "    lst.remove(largest)\n",
    "\n",
    "    # Find the largest number in the modified list (which will be the second largest)\n",
    "    second_largest = max(lst)\n",
    "\n",
    "    return second_largest\n",
    "\n",
    "# Example usage:\n",
    "input_list = [3, 5, 9, 2, 8]\n",
    "result = find_second_largest(input_list)\n",
    "print(\"Second largest number in the list:\", result)\n"
   ]
  },
  {
   "cell_type": "code",
   "execution_count": 3,
   "metadata": {},
   "outputs": [
    {
     "name": "stdout",
     "output_type": "stream",
     "text": [
      "{1: 4, 2: 3, 3: 2, 4: 1}\n"
     ]
    }
   ],
   "source": [
    "#Q13 create a code to count the occurances of each element in a list and return a dictionarywith elements as keys and their counts as values.\n",
    "\n",
    "\n",
    "def count_elements(lst):\n",
    "    count_dict = {}\n",
    "    for element in lst:\n",
    "        if element in count_dict:\n",
    "            count_dict[element] += 1\n",
    "        else:\n",
    "            count_dict[element] = 1\n",
    "    return count_dict\n",
    "\n",
    "# Example usage:\n",
    "my_list = [1, 2, 3, 4, 1, 2, 3, 1, 2, 1]\n",
    "result = count_elements(my_list)\n",
    "print(result)\n"
   ]
  },
  {
   "cell_type": "code",
   "execution_count": 4,
   "metadata": {},
   "outputs": [
    {
     "name": "stdout",
     "output_type": "stream",
     "text": [
      "[5, 4, 3, 2, 1]\n"
     ]
    }
   ],
   "source": [
    "#Q14 write a code to reverse a list in place without using any built in reverse functions.\n",
    "\n",
    "def reverse_list(lst):\n",
    "    for i in range(len(lst) // 2):\n",
    "        lst[i], lst[-i - 1] = lst[-i - 1], lst[i]\n",
    "\n",
    "# Example usage:\n",
    "my_list = [1, 2, 3, 4, 5]\n",
    "reverse_list(my_list)\n",
    "print(my_list)  # Output: [5, 4, 3, 2, 1]\n"
   ]
  },
  {
   "cell_type": "code",
   "execution_count": 5,
   "metadata": {},
   "outputs": [
    {
     "name": "stdout",
     "output_type": "stream",
     "text": [
      "[1, 2, 3, 4, 5]\n"
     ]
    }
   ],
   "source": [
    "#Q15 implement a code to find and remove duplicates from a list while preserving the original order of elements.\n",
    "\n",
    "def remove_duplicates(lst):\n",
    "    seen = {}\n",
    "    result = []\n",
    "    for item in lst:\n",
    "        if item not in seen:\n",
    "            seen[item] = True\n",
    "            result.append(item)\n",
    "    return result\n",
    "\n",
    "# Example usage:\n",
    "my_list = [1, 2, 3, 2, 4, 1, 5]\n",
    "result = remove_duplicates(my_list)\n",
    "print(result)  # Output: [1, 2, 3, 4, 5]\n"
   ]
  },
  {
   "cell_type": "code",
   "execution_count": 6,
   "metadata": {},
   "outputs": [
    {
     "name": "stdout",
     "output_type": "stream",
     "text": [
      "True\n",
      "True\n",
      "False\n"
     ]
    }
   ],
   "source": [
    "#Q16 create a code to check if a given list is sorted(either in ascending or desending order)or not.\n",
    "\n",
    "def is_sorted(lst):\n",
    "    ascending = True\n",
    "    descending = True\n",
    "    for i in range(len(lst) - 1):\n",
    "        if lst[i] > lst[i + 1]:\n",
    "            ascending = False\n",
    "        elif lst[i] < lst[i + 1]:\n",
    "            descending = False\n",
    "    return ascending or descending\n",
    "\n",
    "# Example usage:\n",
    "my_list1 = [1, 2, 3, 4, 5]\n",
    "my_list2 = [5, 4, 3, 2, 1]\n",
    "my_list3 = [1, 3, 2, 4, 5]\n",
    "\n",
    "print(is_sorted(my_list1))  # Output: True (ascending)\n",
    "print(is_sorted(my_list2))  # Output: True (descending)\n",
    "print(is_sorted(my_list3))  # Output: False\n"
   ]
  },
  {
   "cell_type": "code",
   "execution_count": 7,
   "metadata": {},
   "outputs": [
    {
     "name": "stdout",
     "output_type": "stream",
     "text": [
      "[1, 2, 3, 4, 5, 6, 7, 8]\n"
     ]
    }
   ],
   "source": [
    "#Q17 write a code to merge two sorted lists into a single sorted list.\n",
    "def merge_sorted_lists(list1, list2):\n",
    "    merged_list = []\n",
    "    i = j = 0\n",
    "\n",
    "    while i < len(list1) and j < len(list2):\n",
    "        if list1[i] <= list2[j]:\n",
    "            merged_list.append(list1[i])\n",
    "            i += 1\n",
    "        else:\n",
    "            merged_list.append(list2[j])\n",
    "            j += 1\n",
    "\n",
    "    # Append remaining elements from list1\n",
    "    while i < len(list1):\n",
    "        merged_list.append(list1[i])\n",
    "        i += 1\n",
    "\n",
    "    # Append remaining elements from list2\n",
    "    while j < len(list2):\n",
    "        merged_list.append(list2[j])\n",
    "        j += 1\n",
    "\n",
    "    return merged_list\n",
    "\n",
    "# Example usage:\n",
    "list1 = [1, 3, 5, 7]\n",
    "list2 = [2, 4, 6, 8]\n",
    "result = merge_sorted_lists(list1, list2)\n",
    "print(result)  # Output: [1, 2, 3, 4, 5, 6, 7, 8]"
   ]
  },
  {
   "cell_type": "code",
   "execution_count": 8,
   "metadata": {},
   "outputs": [
    {
     "name": "stdout",
     "output_type": "stream",
     "text": [
      "[3, 4, 5]\n"
     ]
    }
   ],
   "source": [
    "#Q18 implement a code to find the intersection of two given list.\n",
    "\n",
    "def find_intersection(list1, list2):\n",
    "    intersection = []\n",
    "    for item in list1:\n",
    "        if item in list2 and item not in intersection:\n",
    "            intersection.append(item)\n",
    "    return intersection\n",
    "\n",
    "# Example usage:\n",
    "list1 = [1, 2, 3, 4, 5]\n",
    "list2 = [3, 4, 5, 6, 7]\n",
    "result = find_intersection(list1, list2)\n",
    "print(result)  # Output: [3, 4, 5]"
   ]
  },
  {
   "cell_type": "code",
   "execution_count": 9,
   "metadata": {},
   "outputs": [
    {
     "name": "stdout",
     "output_type": "stream",
     "text": [
      "[1, 2, 3, 4, 5, 6, 7]\n"
     ]
    }
   ],
   "source": [
    "#Q19 cerate a code to find the union of two lists without duplicates.\n",
    "def find_union(list1, list2):\n",
    "    union = []\n",
    "    for item in list1 + list2:\n",
    "        if item not in union:\n",
    "            union.append(item)\n",
    "    return union\n",
    "\n",
    "# Example usage:\n",
    "list1 = [1, 2, 3, 4, 5]\n",
    "list2 = [3, 4, 5, 6, 7]\n",
    "result = find_union(list1, list2)\n",
    "print(result)  # Output: [1, 2, 3, 4, 5, 6, 7]"
   ]
  },
  {
   "cell_type": "code",
   "execution_count": 10,
   "metadata": {},
   "outputs": [
    {
     "name": "stdout",
     "output_type": "stream",
     "text": [
      "[1, 2, 3, 5, 4]\n"
     ]
    }
   ],
   "source": [
    "#Q20 write a code to shuffle a given list randomly without any built in shuffle functions.\n",
    "import random\n",
    "\n",
    "def shuffle_list(lst):\n",
    "    shuffled_list = lst[:]\n",
    "    for i in range(len(shuffled_list) - 1, 0, -1):\n",
    "        j = random.randint(0, i)\n",
    "        shuffled_list[i], shuffled_list[j] = shuffled_list[j], shuffled_list[i]\n",
    "    return shuffled_list\n",
    "\n",
    "# Example usage:\n",
    "my_list = [1, 2, 3, 4, 5]\n",
    "shuffled_list = shuffle_list(my_list)\n",
    "print(shuffled_list)"
   ]
  },
  {
   "cell_type": "code",
   "execution_count": 11,
   "metadata": {},
   "outputs": [
    {
     "name": "stdout",
     "output_type": "stream",
     "text": [
      "Common elements: (4, 5)\n"
     ]
    }
   ],
   "source": [
    "#Q21 write a code that takes two tuples aa input and return a new tuple containing elements that are common to both input tuples.\n",
    "\n",
    "def common_elements(tuple1, tuple2):\n",
    "    common = ()\n",
    "    for item in tuple1:\n",
    "        if item in tuple2 and item not in common:\n",
    "            common += (item,)\n",
    "    return common\n",
    "\n",
    "# Example usage:\n",
    "tuple1 = (1, 2, 3, 4, 5)\n",
    "tuple2 = (4, 5, 6, 7, 8)\n",
    "result = common_elements(tuple1, tuple2)\n",
    "print(\"Common elements:\", result)"
   ]
  },
  {
   "cell_type": "code",
   "execution_count": null,
   "metadata": {},
   "outputs": [],
   "source": [
    "#Q22 cerate a code that promts the user toenter two set of interger seperated by commas.then print the intersection of this two sets.\n"
   ]
  },
  {
   "cell_type": "code",
   "execution_count": null,
   "metadata": {},
   "outputs": [],
   "source": [
    "def main():\n",
    "    # Prompt the user to enter the first set of integers\n",
    "    set1_input = input(\"Enter the first set of integers separated by commas: \")\n",
    "    # Convert the input string into a set of integers\n",
    "    set1 = set(map(int, set1_input.split(',')))\n",
    "\n",
    "    # Prompt the user to enter the second set of integers\n",
    "    set2_input = input(\"Enter the second set of integers separated by commas: \")\n",
    "    # Convert the input string into a set of integers\n",
    "    set2 = set(map(int, set2_input.split(',')))\n",
    "\n",
    "    # Find the intersection of the two sets\n",
    "    intersection = set1.intersection(set2)\n",
    "\n",
    "    # Print the intersection\n",
    "    print(\"Intersection of the two sets:\", intersection)\n",
    "\n",
    "if __name__ == \"__main__\":\n",
    "    main()\n"
   ]
  },
  {
   "cell_type": "code",
   "execution_count": 2,
   "metadata": {},
   "outputs": [
    {
     "name": "stdout",
     "output_type": "stream",
     "text": [
      "(1, 2, 3, 4, 5, 6)\n"
     ]
    }
   ],
   "source": [
    "#Q23 Write a code to concenate two tuple . The function hould take two tuple ' input 'and return ' new \n",
    "#tuple containing element from both input tuple .\n",
    "\n",
    "def merge_tuples(tuple1, tuple2):\n",
    "    return tuple1 + tuple2\n",
    "\n",
    "# Example usage\n",
    "tuple1 = (1, 2, 3)\n",
    "tuple2 = (4, 5, 6)\n",
    "result = merge_tuples(tuple1, tuple2)\n",
    "print(result)"
   ]
  },
  {
   "cell_type": "code",
   "execution_count": null,
   "metadata": {},
   "outputs": [],
   "source": [
    "#Q24 DEVELOP a code that prompts the user to input two sets of strings. Then print the elements that represent \n",
    "# in the first set but not in the second set\n",
    "\n",
    "    # Input: Two sets of strings\n",
    "set1 = input(\"Enter the first set of strings, separated by spaces: \").split()\n",
    "set2 = input(\"Enter the second set of strings, separated by spaces: \").split()\n",
    "\n",
    "# Convert lists to sets\n",
    "set1 = set(set1)\n",
    "set2 = set(set2)\n",
    "\n",
    "# Find the difference\n",
    "difference = set1 - set2\n",
    "\n",
    "# Print the result\n",
    "print(\"Elements present in the first set but not in the second set:\", difference)\n"
   ]
  },
  {
   "cell_type": "code",
   "execution_count": null,
   "metadata": {},
   "outputs": [],
   "source": [
    "#Q25 Create a code that takes  tuple and two ineegers as input. The function should return new tuple \n",
    "#containing elements from the original tuple within the specified range of indices\n"
   ]
  },
  {
   "cell_type": "code",
   "execution_count": 1,
   "metadata": {},
   "outputs": [
    {
     "name": "stdout",
     "output_type": "stream",
     "text": [
      "(3, 4, 5)\n"
     ]
    }
   ],
   "source": [
    "def slice_tuple(input_tuple, start_index, end_index):\n",
    "    # Slicing the tuple to get the elements within the specified range\n",
    "    return input_tuple[start_index:end_index + 1]\n",
    "\n",
    "# Example usage:\n",
    "original_tuple = (1, 2, 3, 4, 5, 6)\n",
    "start = 2\n",
    "end = 4\n",
    "result = slice_tuple(original_tuple, start, end)\n",
    "print(result) "
   ]
  },
  {
   "cell_type": "code",
   "execution_count": null,
   "metadata": {},
   "outputs": [],
   "source": [
    "#Q26 write a code that prompts the user to input two sets of character then print the union of two sets."
   ]
  },
  {
   "cell_type": "code",
   "execution_count": null,
   "metadata": {},
   "outputs": [],
   "source": [
    "# Prompt the user to input two sets of characters\n",
    "set1 = set(input(\"Enter the first set of characters (without spaces): \"))\n",
    "set2 = set(input(\"Enter the second set of characters (without spaces): \"))\n",
    "\n",
    "# Calculate the union of the two sets\n",
    "union_set = set1.union(set2)\n",
    "\n",
    "# Print the union of the sets\n",
    "print(\"The union of the two sets is:\", union_set)"
   ]
  },
  {
   "cell_type": "code",
   "execution_count": null,
   "metadata": {},
   "outputs": [],
   "source": [
    "#Q27 Deveploe a code that takes a tuple of intergers as input.the function should return the maximum and minimum values from the tuple using unpacking."
   ]
  },
  {
   "cell_type": "code",
   "execution_count": 1,
   "metadata": {},
   "outputs": [
    {
     "name": "stdout",
     "output_type": "stream",
     "text": [
      "Minimum: 1, Maximum: 8\n"
     ]
    }
   ],
   "source": [
    "def min_max_values(numbers):\n",
    "    # Unpack the tuple\n",
    "    first, *rest = numbers\n",
    "    \n",
    "    # Initialize minimum and maximum with the first value\n",
    "    minimum = maximum = first\n",
    "    \n",
    "    # Iterate through the rest of the values\n",
    "    for number in rest:\n",
    "        if number < minimum:\n",
    "            minimum = number\n",
    "        if number > maximum:\n",
    "            maximum = number\n",
    "    \n",
    "    return minimum, maximum\n",
    "\n",
    "# Example usage\n",
    "numbers = (3, 5, 1, 8, 2)\n",
    "min_value, max_value = min_max_values(numbers)\n",
    "print(f\"Minimum: {min_value}, Maximum: {max_value}\")"
   ]
  },
  {
   "cell_type": "code",
   "execution_count": null,
   "metadata": {},
   "outputs": [],
   "source": [
    "#Q28 CREATE A CODE THAT DEFINES TEO SETS OF TNTEGERS.THEN PRINT THE UNION,INTERSECTION,AND DIFFERENCES OF THESE TEO SETS."
   ]
  },
  {
   "cell_type": "code",
   "execution_count": 2,
   "metadata": {},
   "outputs": [
    {
     "name": "stdout",
     "output_type": "stream",
     "text": [
      "Union: {1, 2, 3, 4, 5, 6, 7, 8}\n",
      "Intersection: {4, 5}\n",
      "Difference (set1 - set2): {1, 2, 3}\n",
      "Difference (set2 - set1): {8, 6, 7}\n"
     ]
    }
   ],
   "source": [
    "set1 = {1, 2, 3, 4, 5}\n",
    "set2 = {4, 5, 6, 7, 8}\n",
    "\n",
    "# Union of the sets\n",
    "union = set1.union(set2)\n",
    "print(\"Union:\", union)\n",
    "\n",
    "# Intersection of the sets\n",
    "intersection = set1.intersection(set2)\n",
    "print(\"Intersection:\", intersection)\n",
    "\n",
    "# Difference of the sets (set1 - set2)\n",
    "difference = set1.difference(set2)\n",
    "print(\"Difference (set1 - set2):\", difference)\n",
    "\n",
    "# Difference of the sets (set2 - set1)\n",
    "difference2 = set2.difference(set1)\n",
    "print(\"Difference (set2 - set1):\", difference2)\n",
    "\n"
   ]
  },
  {
   "cell_type": "code",
   "execution_count": null,
   "metadata": {},
   "outputs": [],
   "source": [
    "#Q29 write a code that takes a tuple and an elements as input.the function should return the count of occurances of the given elements in the tuple."
   ]
  },
  {
   "cell_type": "code",
   "execution_count": 3,
   "metadata": {},
   "outputs": [
    {
     "name": "stdout",
     "output_type": "stream",
     "text": [
      "3\n"
     ]
    }
   ],
   "source": [
    "def count_occurrences(tup, element):\n",
    "    return tup.count(element)\n",
    "\n",
    "# Example usage\n",
    "my_tuple = (1, 2, 3, 2, 4, 2, 5)\n",
    "element = 2\n",
    "print(count_occurrences(my_tuple, element))  "
   ]
  },
  {
   "cell_type": "code",
   "execution_count": null,
   "metadata": {},
   "outputs": [],
   "source": [
    "#Q30 develope a code that prompts the user to input two strings .then,print the symeetric difference of these teo sets."
   ]
  },
  {
   "cell_type": "code",
   "execution_count": null,
   "metadata": {},
   "outputs": [],
   "source": [
    "set1 = set(input(\"Enter the first set of strings (separate by spaces): \").split())\n",
    "set2 = set(input(\"Enter the second set of strings (separate by spaces): \").split())\n",
    "\n",
    "# Calculate the symmetric difference\n",
    "symmetric_diff = set1.symmetric_difference(set2)\n",
    "\n",
    "# Print the symmetric difference\n",
    "print(\"Symmetric difference of the two sets:\", symmetric_diff)"
   ]
  },
  {
   "cell_type": "code",
   "execution_count": null,
   "metadata": {},
   "outputs": [],
   "source": [
    "#Q31 write a code that takes a list of words as input and return a dictionary where the keys are unique words and the values are frequencies of theose words in the input lists."
   ]
  },
  {
   "cell_type": "code",
   "execution_count": 1,
   "metadata": {},
   "outputs": [
    {
     "name": "stdout",
     "output_type": "stream",
     "text": [
      "{'apple': 3, 'banana': 2, 'orange': 1}\n"
     ]
    }
   ],
   "source": [
    "def word_frequencies(word_list):\n",
    "    frequency_dict = {}\n",
    "    for word in word_list:\n",
    "        if word in frequency_dict:\n",
    "            frequency_dict[word] += 1\n",
    "        else:\n",
    "            frequency_dict[word] = 1\n",
    "    return frequency_dict\n",
    "\n",
    "# Example usage:\n",
    "words = [\"apple\", \"banana\", \"apple\", \"orange\", \"banana\", \"apple\"]\n",
    "frequencies = word_frequencies(words)\n",
    "print(frequencies)"
   ]
  },
  {
   "cell_type": "code",
   "execution_count": null,
   "metadata": {},
   "outputs": [],
   "source": [
    "#Q32 write a code that takes two dictionaries as input and merges them into a single dictionary.if there are common keys,the values should be added together."
   ]
  },
  {
   "cell_type": "code",
   "execution_count": 2,
   "metadata": {},
   "outputs": [
    {
     "name": "stdout",
     "output_type": "stream",
     "text": [
      "{'Geeks': 100, 'geek': 200, 'for': 325}\n"
     ]
    }
   ],
   "source": [
    "dict1 = {'a': 12, 'for': 25, 'c': 9}\n",
    "dict2 = {'Geeks': 100, 'geek': 200, 'for': 300}\n",
    " \n",
    " \n",
    "# adding the values with common key\n",
    "for key in dict2:\n",
    "    if key in dict1:\n",
    "        dict2[key] = dict2[key] + dict1[key]\n",
    "    else:\n",
    "        pass\n",
    "         \n",
    "print(dict2)"
   ]
  },
  {
   "cell_type": "code",
   "execution_count": null,
   "metadata": {},
   "outputs": [],
   "source": [
    "#Q33 write a code to access a value in a nested dictionary.the function should take the dictionary and a list of keys a sinput and return the corresponding value.if any of the keys do not exist in the dictionary, the functions should return None."
   ]
  },
  {
   "cell_type": "code",
   "execution_count": 22,
   "metadata": {},
   "outputs": [
    {
     "name": "stdout",
     "output_type": "stream",
     "text": [
      "[1, 2, None]\n"
     ]
    }
   ],
   "source": [
    "def get_values(d, keys):\n",
    "    \"\"\"\n",
    "    This function takes a dictionary and a list of keys, and returns a list of corresponding values.\n",
    "    If any key does not exist in the dictionary, the function returns None for that key.\n",
    "\n",
    "    :param d: Dictionary to look up values from\n",
    "    :param keys: List of keys to look up in the dictionary\n",
    "    :return: List of values corresponding to the provided keys, or None if a key is not found\n",
    "    \"\"\"\n",
    "    return [d.get(key, None) for key in keys]\n",
    "\n",
    "# Example usage\n",
    "dictionary = {'a': 1, 'b': 2, 'c': 3}\n",
    "keys = ['a', 'b', 'd']\n",
    "print(get_values(dictionary, keys)) "
   ]
  },
  {
   "cell_type": "code",
   "execution_count": null,
   "metadata": {},
   "outputs": [],
   "source": [
    "#Q34 write a code that takes a dictionary as input and returns a sorted version of it based on the values.you can choose whether to sort in ascending or descending order."
   ]
  },
  {
   "cell_type": "code",
   "execution_count": 25,
   "metadata": {},
   "outputs": [
    {
     "name": "stdout",
     "output_type": "stream",
     "text": [
      "{'b': 1, 'c': 2, 'a': 3}\n",
      "{'a': 3, 'c': 2, 'b': 1}\n"
     ]
    }
   ],
   "source": [
    "def sort_dict_by_value(d, order='ascending'):\n",
    "    \"\"\"\n",
    "    Sorts a dictionary by its values.\n",
    "    \n",
    "    Parameters:\n",
    "    d (dict): The dictionary to be sorted.\n",
    "    order (str): Sorting order, either 'ascending' or 'descending'. Default is 'ascending'.\n",
    "    \n",
    "    Returns:\n",
    "    dict: A new dictionary sorted by its values.\n",
    "    \"\"\"\n",
    "    if order == 'ascending':\n",
    "        sorted_dict = dict(sorted(d.items(), key=lambda item: item[1]))\n",
    "    elif order == 'descending':\n",
    "        sorted_dict = dict(sorted(d.items(), key=lambda item: item[1], reverse=True))\n",
    "    else:\n",
    "        raise ValueError(\"Invalid order. Please choose 'ascending' or 'descending'.\")\n",
    "    \n",
    "    return sorted_dict\n",
    "\n",
    "# Example usage\n",
    "d = {'a': 3, 'b': 1, 'c': 2}\n",
    "print(sort_dict_by_value(d, 'ascending'))   # Output: {'b': 1, 'c': 2, 'a': 3}\n",
    "print(sort_dict_by_value(d, 'descending'))  # Output: {'a': 3, 'c': 2, 'b': 1}"
   ]
  },
  {
   "cell_type": "code",
   "execution_count": null,
   "metadata": {},
   "outputs": [],
   "source": [
    "#Q35 WRITE A CODE INVERTS A DICTIONARY SWAPPING KEYS AND VALUE.ENSURE TAHT THE INVERTED DICTIONARY CORRECTLY HANDLES CASES WHERE MULTIPLE KEYS HAVE HAVE THE SAME VALUE BY STORING THE KEYS AS A LIST IN THE INVERTED DICTIONARY."
   ]
  },
  {
   "cell_type": "code",
   "execution_count": 26,
   "metadata": {},
   "outputs": [
    {
     "name": "stdout",
     "output_type": "stream",
     "text": [
      "{1: ['a', 'c'], 2: ['b'], 3: ['d']}\n"
     ]
    }
   ],
   "source": [
    "def invert_dict(original_dict):\n",
    "  \"\"\"\n",
    "  Inverts a dictionary, swapping keys and values. Handles multiple keys with the same value by storing them as a list.\n",
    "\n",
    "  Args:\n",
    "    original_dict: The dictionary to invert.\n",
    "\n",
    "  Returns:\n",
    "    A new dictionary with swapped keys and values.\n",
    "  \"\"\"\n",
    "  inverted_dict = {}\n",
    "  for key, value in original_dict.items():\n",
    "    if value in inverted_dict:\n",
    "      inverted_dict[value].append(key)\n",
    "    else:\n",
    "      inverted_dict[value] = [key]\n",
    "  return inverted_dict\n",
    "\n",
    "# Example usage\n",
    "original_dict = {'a': 1, 'b': 2, 'c': 1, 'd': 3}\n",
    "inverted_dict = invert_dict(original_dict)\n",
    "print(inverted_dict)"
   ]
  },
  {
   "cell_type": "code",
   "execution_count": null,
   "metadata": {},
   "outputs": [],
   "source": []
  },
  {
   "cell_type": "code",
   "execution_count": null,
   "metadata": {},
   "outputs": [],
   "source": []
  },
  {
   "cell_type": "code",
   "execution_count": null,
   "metadata": {},
   "outputs": [],
   "source": []
  }
 ],
 "metadata": {
  "kernelspec": {
   "display_name": "Python 3",
   "language": "python",
   "name": "python3"
  },
  "language_info": {
   "codemirror_mode": {
    "name": "ipython",
    "version": 3
   },
   "file_extension": ".py",
   "mimetype": "text/x-python",
   "name": "python",
   "nbconvert_exporter": "python",
   "pygments_lexer": "ipython3",
   "version": "3.7.3"
  }
 },
 "nbformat": 4,
 "nbformat_minor": 2
}
